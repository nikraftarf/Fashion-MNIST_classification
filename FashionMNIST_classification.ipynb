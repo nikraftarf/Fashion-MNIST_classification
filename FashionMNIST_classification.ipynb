{
  "nbformat": 4,
  "nbformat_minor": 0,
  "metadata": {
    "kernelspec": {
      "display_name": "Python 3",
      "language": "python",
      "name": "python3"
    },
    "language_info": {
      "codemirror_mode": {
        "name": "ipython",
        "version": 3
      },
      "file_extension": ".py",
      "mimetype": "text/x-python",
      "name": "python",
      "nbconvert_exporter": "python",
      "pygments_lexer": "ipython3",
      "version": "3.7.3"
    },
    "colab": {
      "name": "FashionMNIST_classification.ipynb",
      "provenance": []
    }
  },
  "cells": [
    {
      "cell_type": "markdown",
      "metadata": {
        "id": "GbVPLwaBFlXx"
      },
      "source": [
        "# Clothes Classification with Neural Networks\n",
        "\n",
        "In this notebook we are going to use the Neural Networks for image classification. We are going to use the Fashion MNIST (https://pravarmahajan.github.io/fashion/), a dataset of small images of clothes and accessories.\n",
        "\n",
        "The dataset labels are the following:\n",
        "\n",
        "| Label | Description |\n",
        "| --- | --- |\n",
        "| 0 | T-shirt/top |\n",
        "| 1 | Trouser |\n",
        "| 2 | Pullover |\n",
        "| 3 | Dress |\n",
        "| 4 | Coat |\n",
        "| 5 | Sandal |\n",
        "| 6 | Shirt |\n",
        "| 7 | Sneaker |\n",
        "| 8 | Bag |\n",
        "| 9 | Ankle boot |"
      ]
    },
    {
      "cell_type": "code",
      "metadata": {
        "id": "1OHli7fbFlX6",
        "outputId": "972b2820-47da-424d-d7d7-f320160eeed9"
      },
      "source": [
        "#load the required packages and check Scikit-learn version\n",
        "\n",
        "%matplotlib inline  \n",
        "\n",
        "import numpy as np\n",
        "import scipy as sp\n",
        "import matplotlib.pyplot as plt\n",
        "\n",
        "import sklearn\n",
        "print ('scikit-learn version: ', sklearn.__version__)\n",
        "from sklearn.neural_network import MLPClassifier\n",
        "from sklearn.model_selection import GridSearchCV\n",
        "from sklearn.svm import SVC\n",
        "import pandas as pd\n",
        "from sklearn import metrics"
      ],
      "execution_count": null,
      "outputs": [
        {
          "name": "stdout",
          "output_type": "stream",
          "text": [
            "scikit-learn version:  0.22.2.post1\n"
          ]
        }
      ]
    },
    {
      "cell_type": "code",
      "metadata": {
        "id": "jJX5-0gdFlX8"
      },
      "source": [
        "# helper function to load Fashion MNIST dataset from disk\n",
        "def load_mnist(path, kind='train'):\n",
        "    import os\n",
        "    import gzip\n",
        "    import numpy as np\n",
        "    labels_path = os.path.join(path, '%s-labels-idx1-ubyte.gz' % kind)\n",
        "    images_path = os.path.join(path, '%s-images-idx3-ubyte.gz' % kind)\n",
        "    with gzip.open(labels_path, 'rb') as lbpath:\n",
        "        labels = np.frombuffer(lbpath.read(), dtype=np.uint8,offset=8)\n",
        "    with gzip.open(images_path, 'rb') as imgpath:\n",
        "        images = np.frombuffer(imgpath.read(), dtype=np.uint8,offset=16).reshape(len(labels), 784)\n",
        "    return images, labels"
      ],
      "execution_count": null,
      "outputs": []
    },
    {
      "cell_type": "markdown",
      "metadata": {
        "id": "Z8tjrpTHFlX9"
      },
      "source": [
        "# TODO \n",
        "Place a seed for the random generatoryour (you can use your \"numero di matricola\"). Try to change the seed to see the impact of the randomization."
      ]
    },
    {
      "cell_type": "code",
      "metadata": {
        "id": "YhK3yCw0FlX-"
      },
      "source": [
        "ID = 2014329\n",
        "np.random.seed(ID)"
      ],
      "execution_count": null,
      "outputs": []
    },
    {
      "cell_type": "code",
      "metadata": {
        "id": "3QxOdaE1FlX_",
        "outputId": "4d8425c1-a374-4258-e9e3-449979e60def"
      },
      "source": [
        "#load the MNIST dataset and let's normalize the features so that each value is in [0,1]\n",
        "X, y = load_mnist(\"data\")\n",
        "print(\"Number of samples in the MNIST dataset:\", X.shape[0])\n",
        "# rescale the data\n",
        "X = X / 255.0"
      ],
      "execution_count": null,
      "outputs": [
        {
          "name": "stdout",
          "output_type": "stream",
          "text": [
            "Number of samples in the MNIST dataset: 60000\n"
          ]
        }
      ]
    },
    {
      "cell_type": "markdown",
      "metadata": {
        "id": "khF1YCRdFlX_"
      },
      "source": [
        "Now split into training and test. We start with a small training set of 600 samples to reduce computation time while 4000 samples will be used for testing. Make sure that each label is present at least 10 times in train and test set frequencies."
      ]
    },
    {
      "cell_type": "code",
      "metadata": {
        "id": "WtSsrCDEFlYA",
        "outputId": "92f2faf0-b483-445b-ac27-8ff235301a1e"
      },
      "source": [
        "#random permute the data and split into training and test taking the first 600\n",
        "#data samples as training and 4000 as test set\n",
        "permutation = np.random.permutation(X.shape[0])\n",
        "\n",
        "X = X[permutation]\n",
        "y = y[permutation]\n",
        "\n",
        "m_training = 600\n",
        "m_test = 4000\n",
        "\n",
        "X_train, X_test = X[:m_training], X[m_training:m_training+m_test]\n",
        "y_train, y_test = y[:m_training], y[m_training:m_training+m_test]\n",
        "\n",
        "labels, freqs = np.unique(y_train, return_counts=True)\n",
        "print(\"Labels in training dataset: \", labels)\n",
        "print(\"Frequencies in training dataset: \", freqs)\n",
        "\n",
        "labelsT, freqsT = np.unique(y_test, return_counts=True)\n",
        "print(\"Labels in test set: \", labels)\n",
        "print(\"Frequencies in test set: \", freqs)\n"
      ],
      "execution_count": null,
      "outputs": [
        {
          "name": "stdout",
          "output_type": "stream",
          "text": [
            "Labels in training dataset:  [0 1 2 3 4 5 6 7 8 9]\n",
            "Frequencies in training dataset:  [59 53 61 66 65 64 52 62 60 58]\n",
            "Labels in test set:  [0 1 2 3 4 5 6 7 8 9]\n",
            "Frequencies in test set:  [59 53 61 66 65 64 52 62 60 58]\n"
          ]
        }
      ]
    },
    {
      "cell_type": "code",
      "metadata": {
        "id": "NTtOdz0qFlYC"
      },
      "source": [
        "#function for plotting a image and printing the corresponding label\n",
        "def plot_input(X_matrix, labels, index):\n",
        "    print(\"INPUT:\")\n",
        "    plt.imshow(\n",
        "        X_matrix[index].reshape(28,28),\n",
        "        cmap          = plt.cm.gray_r,\n",
        "        interpolation = \"nearest\"\n",
        "    )\n",
        "    plt.show()\n",
        "    print(\"LABEL: %i\"%labels[index])\n",
        "    return"
      ],
      "execution_count": null,
      "outputs": []
    },
    {
      "cell_type": "code",
      "metadata": {
        "id": "H319NDyVFlYC",
        "outputId": "a931855b-43b1-423b-895a-8f20ba6f9c96"
      },
      "source": [
        "#let's try the plotting function\n",
        "plot_input(X_train,y_train,10)\n",
        "plot_input(X_test,y_test,100)\n",
        "plot_input(X_test,y_test,1000)"
      ],
      "execution_count": null,
      "outputs": [
        {
          "name": "stdout",
          "output_type": "stream",
          "text": [
            "INPUT:\n"
          ]
        },
        {
          "data": {
            "image/png": "[encoded data removed]",
            "text/plain": [
              "<Figure size 432x288 with 1 Axes>"
            ]
          },
          "metadata": {
            "needs_background": "light"
          },
          "output_type": "display_data"
        },
        {
          "name": "stdout",
          "output_type": "stream",
          "text": [
            "LABEL: 8\n",
            "INPUT:\n"
          ]
        },
        {
          "data": {
            "image/png": "[encoded data removed]",
            "text/plain": [
              "<Figure size 432x288 with 1 Axes>"
            ]
          },
          "metadata": {
            "needs_background": "light"
          },
          "output_type": "display_data"
        },
        {
          "name": "stdout",
          "output_type": "stream",
          "text": [
            "LABEL: 1\n",
            "INPUT:\n"
          ]
        },
        {
          "data": {
            "image/png": "[encoded data removed]",
            "text/plain": [
              "<Figure size 432x288 with 1 Axes>"
            ]
          },
          "metadata": {
            "needs_background": "light"
          },
          "output_type": "display_data"
        },
        {
          "name": "stdout",
          "output_type": "stream",
          "text": [
            "LABEL: 4\n"
          ]
        }
      ]
    },
    {
      "cell_type": "markdown",
      "metadata": {
        "id": "1EYBCdseFlYD"
      },
      "source": [
        "### TO DO 1\n",
        "\n",
        "Now use a feed-forward Neural Network for prediction. Use the multi-layer perceptron classifier, with the following parameters: max_iter=250, alpha=1e-4, solver='sgd', tol=1e-4, learning_rate_init=.1, random_state=ID (this last parameter ensures the run is the same even if you run it more than once). The alpha parameter is the regularization term.\n",
        "\n",
        "Then, using the default activation function, pick four or five architectures to consider, with different numbers of hidden layers and different sizes. It is not necessary to create huge neural networks, you can limit to 3 layers and, for each layer, its maximum size can be of 50. Evaluate the architectures you chose using GridSearchCV with cv=5.\n",
        "\n",
        "You can reduce the number of iterations if the running time is too long on your computer.\n"
      ]
    },
    {
      "cell_type": "code",
      "metadata": {
        "id": "LUnn7WOZFlYE",
        "outputId": "f187b40b-4445-4dfa-ac0f-0be8cbc508d0"
      },
      "source": [
        "# these are sample values but feel free to change them as you like, try to experiment with different sizes!!\n",
        "parameters = {'hidden_layer_sizes': [(10,), (20,), (30,), (20,20,), (30,30,20)]}\n",
        "\n",
        "mlp = MLPClassifier(max_iter=250, alpha=1e-4, solver='sgd',\n",
        "                    tol=1e-4, random_state=ID,\n",
        "                    learning_rate_init=.1)\n",
        "\n",
        "model = GridSearchCV(estimator = mlp,param_grid = parameters, scoring= 'accuracy', cv = 5, verbose = 1,\n",
        "                        return_train_score=True) \n",
        "model.fit(X_train, y_train)\n",
        "results = pd.DataFrame(model.cv_results_)\n",
        "best_score = model.best_score_\n",
        "best_params = model.best_params_\n",
        "\n",
        "print ('RESULTS FOR NN\\n')\n",
        "\n",
        "print(\"Best parameters set found:\",best_params)\n",
        "#ADD YOUR CODE\n",
        "\n",
        "print(\"Score with best parameters:\",best_score)\n",
        "#ADD YOUR CODE\n",
        "\n",
        "print(\"\\nAll scores on the grid:\",results)\n",
        "#ADD YOUR CODE"
      ],
      "execution_count": null,
      "outputs": [
        {
          "name": "stdout",
          "output_type": "stream",
          "text": [
            "Fitting 5 folds for each of 5 candidates, totalling 25 fits\n"
          ]
        },
        {
          "name": "stderr",
          "output_type": "stream",
          "text": [
            "[Parallel(n_jobs=1)]: Using backend SequentialBackend with 1 concurrent workers.\n",
            "[Parallel(n_jobs=1)]: Done  25 out of  25 | elapsed:   20.5s finished\n",
            "C:\\Users\\f\\Anaconda3\\lib\\site-packages\\sklearn\\model_selection\\_search.py:841: DeprecationWarning: The default of the `iid` parameter will change from True to False in version 0.22 and will be removed in 0.24. This will change numeric results when test-set sizes are unequal.\n",
            "  DeprecationWarning)\n"
          ]
        },
        {
          "name": "stdout",
          "output_type": "stream",
          "text": [
            "RESULTS FOR NN\n",
            "\n",
            "Best parameters set found: {'hidden_layer_sizes': (20,)}\n",
            "Score with best parameters: 0.775\n",
            "\n",
            "All scores on the grid:    mean_fit_time  std_fit_time  mean_score_time  std_score_time  \\\n",
            "0       1.122355      0.351665         0.000999        0.000632   \n",
            "1       1.143742      0.129728         0.001199        0.000399   \n",
            "2       0.871702      0.401707         0.000999        0.000001   \n",
            "3       0.493119      0.097697         0.000999        0.000632   \n",
            "4       0.460137      0.082931         0.001203        0.000398   \n",
            "\n",
            "  param_hidden_layer_sizes                                params  \\\n",
            "0                    (10,)         {'hidden_layer_sizes': (10,)}   \n",
            "1                    (20,)         {'hidden_layer_sizes': (20,)}   \n",
            "2                    (30,)         {'hidden_layer_sizes': (30,)}   \n",
            "3                 (20, 20)      {'hidden_layer_sizes': (20, 20)}   \n",
            "4             (30, 30, 20)  {'hidden_layer_sizes': (30, 30, 20)}   \n",
            "\n",
            "   split0_test_score  split1_test_score  split2_test_score  split3_test_score  \\\n",
            "0           0.500000           0.729508           0.725000           0.796610   \n",
            "1           0.725806           0.745902           0.766667           0.771186   \n",
            "2           0.750000           0.729508           0.775000           0.796610   \n",
            "3           0.701613           0.721311           0.758333           0.101695   \n",
            "4           0.354839           0.704918           0.375000           0.661017   \n",
            "\n",
            "   ...  mean_test_score  std_test_score  rank_test_score  split0_train_score  \\\n",
            "0  ...         0.711667        0.114037                3            0.529412   \n",
            "1  ...         0.775000        0.049591                1            1.000000   \n",
            "2  ...         0.770000        0.027475                2            0.974790   \n",
            "3  ...         0.603333        0.248882                4            0.983193   \n",
            "4  ...         0.553333        0.156872                5            0.422269   \n",
            "\n",
            "   split1_train_score  split2_train_score  split3_train_score  \\\n",
            "0            1.000000            1.000000            1.000000   \n",
            "1            1.000000            1.000000            1.000000   \n",
            "2            1.000000            1.000000            1.000000   \n",
            "3            0.930962            0.937500            0.101660   \n",
            "4            0.853556            0.364583            0.869295   \n",
            "\n",
            "   split4_train_score  mean_train_score  std_train_score  \n",
            "0            0.997934          0.905469         0.188030  \n",
            "1            1.000000          1.000000         0.000000  \n",
            "2            0.950413          0.985041         0.019877  \n",
            "3            0.861570          0.762977         0.332937  \n",
            "4            0.822314          0.666403         0.224141  \n",
            "\n",
            "[5 rows x 21 columns]\n"
          ]
        }
      ]
    },
    {
      "cell_type": "markdown",
      "metadata": {
        "id": "rr6SvlIyFlYE"
      },
      "source": [
        "### TO DO 2\n",
        "\n",
        "Now try also different batch sizes, while keeping the best NN architecture you have found above. Remember that the batch size was previously set to the default value, i.e., min(200, n_samples). \n",
        "Recall that a batch size of 1 corresponds to baseline SGD, while using all the 480 training samples (there are 600 samples but in cross validation with 5 folders we use 1/5 of them for validation at each round) corresponds to standard GD and using a different mini-batch size lies in the middle between the two extreme cases."
      ]
    },
    {
      "cell_type": "code",
      "metadata": {
        "id": "Hd95olCJFlYF",
        "outputId": "d0640086-594f-4a1e-a212-496f4176b531"
      },
      "source": [
        "# these are sample values corresponding to baseline SGD, a reasonable mini-batch size and standard GD\n",
        "# again feel free to change them as you like, try to experiment with different batch sizes!!\n",
        "parameters2 = {'hidden_layer_sizes': [(20,)],'batch_size': [1, 32, 480]}\n",
        "\n",
        "# need to specify that you would like to use the standard k-fold split otherwise sklearn create splits of different sizes\n",
        "kf = sklearn.model_selection.KFold(n_splits=5)\n",
        "\n",
        "mlp2 = MLPClassifier(max_iter=250, alpha=1e-4, solver='sgd',\n",
        "                    tol=1e-4, random_state=ID,\n",
        "                    learning_rate_init=.1)\n",
        "# recall to use cv=kf to use the k-fold subdivision seen in the lectures\n",
        "model2 = GridSearchCV(estimator = mlp2,param_grid = parameters2, scoring= 'accuracy', cv = kf, verbose = 1,\n",
        "                        return_train_score=True) \n",
        "model2.fit(X_train, y_train)\n",
        "results2 = pd.DataFrame(model2.cv_results_)\n",
        "best_score2 = model2.best_score_\n",
        "best_params2 = model2.best_params_\n",
        "\n",
        "\n",
        "\n",
        "\n",
        "print ('RESULTS FOR NN\\n')\n",
        "\n",
        "print(\"Best parameters set found:\",best_params2)\n",
        "#ADD YOUR CODE\n",
        "\n",
        "print(\"Score with best parameters:\",best_score2)\n",
        "#ADD YOUR CODE\n",
        "\n",
        "print(\"\\nAll scores on the grid:\",results2)\n",
        "#ADD YOUR CODE"
      ],
      "execution_count": null,
      "outputs": [
        {
          "name": "stdout",
          "output_type": "stream",
          "text": [
            "Fitting 5 folds for each of 3 candidates, totalling 15 fits\n"
          ]
        },
        {
          "name": "stderr",
          "output_type": "stream",
          "text": [
            "[Parallel(n_jobs=1)]: Using backend SequentialBackend with 1 concurrent workers.\n",
            "C:\\Users\\f\\Anaconda3\\lib\\site-packages\\sklearn\\neural_network\\multilayer_perceptron.py:562: ConvergenceWarning: Stochastic Optimizer: Maximum iterations (250) reached and the optimization hasn't converged yet.\n",
            "  % self.max_iter, ConvergenceWarning)\n",
            "C:\\Users\\f\\Anaconda3\\lib\\site-packages\\sklearn\\neural_network\\multilayer_perceptron.py:562: ConvergenceWarning: Stochastic Optimizer: Maximum iterations (250) reached and the optimization hasn't converged yet.\n",
            "  % self.max_iter, ConvergenceWarning)\n",
            "[Parallel(n_jobs=1)]: Done  15 out of  15 | elapsed:   43.3s finished\n"
          ]
        },
        {
          "name": "stdout",
          "output_type": "stream",
          "text": [
            "RESULTS FOR NN\n",
            "\n",
            "Best parameters set found: {'batch_size': 480, 'hidden_layer_sizes': (20,)}\n",
            "Score with best parameters: 0.7833333333333333\n",
            "\n",
            "All scores on the grid:    mean_fit_time  std_fit_time  mean_score_time  std_score_time  \\\n",
            "0       5.987028      2.480954         0.001601        0.000801   \n",
            "1       0.930069      0.424967         0.000999        0.000001   \n",
            "2       1.740196      0.494373         0.001199        0.000400   \n",
            "\n",
            "  param_batch_size param_hidden_layer_sizes  \\\n",
            "0                1                    (20,)   \n",
            "1               32                    (20,)   \n",
            "2              480                    (20,)   \n",
            "\n",
            "                                             params  split0_test_score  \\\n",
            "0    {'batch_size': 1, 'hidden_layer_sizes': (20,)}           0.100000   \n",
            "1   {'batch_size': 32, 'hidden_layer_sizes': (20,)}           0.658333   \n",
            "2  {'batch_size': 480, 'hidden_layer_sizes': (20,)}           0.783333   \n",
            "\n",
            "   split1_test_score  split2_test_score  ...  mean_test_score  std_test_score  \\\n",
            "0           0.141667              0.100  ...         0.108333        0.019720   \n",
            "1           0.766667              0.725  ...         0.711667        0.039651   \n",
            "2           0.800000              0.800  ...         0.783333        0.021731   \n",
            "\n",
            "   rank_test_score  split0_train_score  split1_train_score  \\\n",
            "0                3            0.108333             0.09375   \n",
            "1                2            0.872917             1.00000   \n",
            "2                1            0.981250             1.00000   \n",
            "\n",
            "   split2_train_score  split3_train_score  split4_train_score  \\\n",
            "0            0.095833            0.106250            0.106250   \n",
            "1            0.956250            0.816667            0.868750   \n",
            "2            1.000000            1.000000            0.897917   \n",
            "\n",
            "   mean_train_score  std_train_score  \n",
            "0          0.102083         0.006038  \n",
            "1          0.902917         0.065994  \n",
            "2          0.975833         0.039629  \n",
            "\n",
            "[3 rows x 22 columns]\n"
          ]
        }
      ]
    },
    {
      "cell_type": "markdown",
      "metadata": {
        "id": "PfWh-MvuFlYF"
      },
      "source": [
        "### QUESTION 1\n",
        "\n",
        "What do you observe for different architectures and batch sizes? How do the number of layers and their sizes affect the performances? What do you observe for different batch sizes, in particular what happens to the training convergence for different batch sizes (notice that the algorithm could not converge for some batch sizes)?"
      ]
    },
    {
      "cell_type": "markdown",
      "metadata": {
        "id": "hwt3MfSfFlYF"
      },
      "source": [
        "## [ANSWER TO QUESTION 1]\n",
        "With bigger batch size, we have better results and accuracy.\n",
        "We can not get good result with lots of hidden layers and here 20 is the best one.\n",
        "With bigger batch size convergence gets difficult."
      ]
    },
    {
      "cell_type": "markdown",
      "metadata": {
        "id": "KkIJvbfIFlYG"
      },
      "source": [
        "### TODO 3:\n",
        "\n",
        "Plot the train and test accuracies as a function of the number of learnable parameters in your neural network. Print also the computation time for the various configurations you try (the code for getting the computation time is already provided). You can use 300 iterations (if you get a warning on convergence not reached it is not an issue for this lab)"
      ]
    },
    {
      "cell_type": "code",
      "metadata": {
        "id": "SriB3KBVFlYG",
        "outputId": "2eb90880-686e-4149-f14d-50f78aaef362"
      },
      "source": [
        "import time\n",
        "from functools import reduce\n",
        "\n",
        "# Function to compute the number of learnable parameters of a mlp given the size of its hidden layers\n",
        "def param_count(hl_size):\n",
        "    tot = 0\n",
        "    input_size, output_size = X_train.shape[1], len(labels)\n",
        "    tot += (input_size+1)*hl_size[0]\n",
        "    for i in range(1,len(hl_size)):\n",
        "        tot += (hl_size[i-1]+1)*hl_size[i]\n",
        "    tot += (hl_size[-1]+1)*output_size\n",
        "    return tot\n",
        "\n",
        "hl_sizes = [(10,), (20,), (30,), (30,20,), (30,30,20)]\n",
        "hl_labels = [param_count(t) for t in hl_sizes]\n",
        "\n",
        "ti = time.time()\n",
        "train_acc_list, test_acc_list = [], []\n",
        "for hl_size in hl_sizes:\n",
        "    print('Training MLP of size {} ...'.format(hl_size))\n",
        "    mlp = MLPClassifier(hidden_layer_sizes=hl_size,max_iter=300, alpha=1e-4, solver='sgd',batch_size=480,\n",
        "                    tol=1e-4, random_state=ID,\n",
        "                    learning_rate_init=.1)\n",
        "    \n",
        "    mlp.fit(X_train, y_train)\n",
        "    mlp.fit(X_test,y_test)\n",
        "    \n",
        "    train_acc_list.append(mlp.score(X_train, y_train))\n",
        "    test_acc_list.append(mlp.score(X_test, y_test))\n",
        "    print('Done, training time: {:.2f} sec\\n'.format(time.time()-ti))\n",
        "    ti = time.time()\n",
        "\n",
        "fig, ax = plt.subplots(1,2, figsize=(15,5))\n",
        "\n",
        "\n",
        "ax[0].plot(train_acc_list)\n",
        "ax[0].set_xlabel('Number of learnable params')\n",
        "ax[0].set_title('Train accuracy')\n",
        "ax[0].set_xticks(np.arange(0,len(hl_labels)))\n",
        "ax[0].set_xticklabels(hl_labels)\n",
        "ax[0].grid(True)\n",
        "\n",
        "ax[1].plot(test_acc_list)\n",
        "ax[1].set_xlabel('Number of learnable params')\n",
        "ax[1].set_title('Test accuracy')\n",
        "ax[1].set_xticks(np.arange(0,len(hl_labels)))\n",
        "ax[1].set_xticklabels(hl_labels)\n",
        "ax[1].grid(True)\n"
      ],
      "execution_count": null,
      "outputs": [
        {
          "name": "stdout",
          "output_type": "stream",
          "text": [
            "Training MLP of size (10,) ...\n",
            "Done, training time: 8.39 sec\n",
            "\n",
            "Training MLP of size (20,) ...\n",
            "Done, training time: 10.11 sec\n",
            "\n",
            "Training MLP of size (30,) ...\n",
            "Done, training time: 10.33 sec\n",
            "\n",
            "Training MLP of size (30, 20) ...\n",
            "Done, training time: 8.04 sec\n",
            "\n",
            "Training MLP of size (30, 30, 20) ...\n",
            "Done, training time: 5.96 sec\n",
            "\n"
          ]
        },
        {
          "data": {
            "image/png": "[encoded data removed]",
            "text/plain": [
              "<Figure size 1080x360 with 2 Axes>"
            ]
          },
          "metadata": {
            "needs_background": "light"
          },
          "output_type": "display_data"
        }
      ]
    },
    {
      "cell_type": "markdown",
      "metadata": {
        "id": "h8obaLGxFlYH"
      },
      "source": [
        "## Question 2:\n",
        "\n",
        "Comment about the training and test accuracies referring to the discussion on underfitting and overfitting we did in the course"
      ]
    },
    {
      "cell_type": "markdown",
      "metadata": {
        "id": "BJaYt7JOFlYH"
      },
      "source": [
        "## [ANSWER TO QUESTION 2]\n",
        "With more hidden layers we will have overfitting and with less than 20 we have underfitting."
      ]
    },
    {
      "cell_type": "markdown",
      "metadata": {
        "id": "gCWikRX6FlYH"
      },
      "source": [
        "### TO DO 4\n",
        "\n",
        "Now try also to use different learning rates, while keeping the best NN architecture and batch size you have found above. Plot the learning curves (i.e., the variation of the loss over the steps, you can get it from the loss_curve_ object of sklearn) for the different values of the learning rate. Try to run each training for 600 iterations. "
      ]
    },
    {
      "cell_type": "code",
      "metadata": {
        "id": "j71pqaFGFlYH",
        "outputId": "0a318de1-0ccf-4bae-bd83-52a5a0ca69aa"
      },
      "source": [
        "import matplotlib.pyplot as plt\n",
        "import operator\n",
        "\n",
        "#lr_list = [0.001, 0.01, 0.1]\n",
        "lr_list = [10**exp for exp in range(-3,0)]\n",
        "scores = {}\n",
        "mlp4_1 = MLPClassifier(hidden_layer_sizes=20, solver='sgd',tol=1e-4,batch_size=480, learning_rate_init=lr_list[0],\n",
        "                       max_iter=600, shuffle=True, random_state=ID)\n",
        "mlp4_1.fit(X_train, y_train)\n",
        "fig, ax = plt.subplots(1,3, figsize=(18,5))\n",
        "ax[0].plot(mlp4_1.loss_curve_)\n",
        "ax[0].set_title(\"Learning Rate 0.001\")\n",
        "ax[0].set_xlabel('steps')\n",
        "ax[0].set_ylabel('Loss')\n",
        "best_loss4_1 = mlp4_1.best_loss_\n",
        "print('Minimum Loss for Learning Rate 0.001 is:',best_loss4_1)\n",
        "\n",
        "mlp4_2 = MLPClassifier(hidden_layer_sizes=20, solver='sgd',tol=1e-4,batch_size=480, learning_rate_init=lr_list[1],\n",
        "                       max_iter=600, shuffle=True, random_state=ID)\n",
        "mlp4_2.fit(X_train, y_train)\n",
        "ax[1].plot(mlp4_2.loss_curve_)\n",
        "ax[1].set_title(\"Learning Rate 0.01\")\n",
        "ax[1].set_xlabel('steps')\n",
        "ax[1].set_ylabel('Loss')\n",
        "best_loss4_2 = mlp4_2.best_loss_\n",
        "print('Minimum Loss for Learning Rate 0.01 is:',best_loss4_2)\n",
        "\n",
        "mlp4_3 = MLPClassifier(hidden_layer_sizes=20, solver='sgd',tol=1e-4,batch_size=480, learning_rate_init=lr_list[2],\n",
        "                       max_iter=600, shuffle=True, random_state=ID)\n",
        "mlp4_3.fit(X_train, y_train)\n",
        "ax[2].plot(mlp4_3.loss_curve_)\n",
        "ax[2].set_title(\"Learning Rate 0.1\")\n",
        "ax[2].set_xlabel('steps')\n",
        "ax[2].set_ylabel('Loss')\n",
        "best_loss4_3 = mlp4_3.best_loss_\n",
        "print('Minimum Loss for Learning Rate 0.1 is:',best_loss4_3)\n",
        "\n",
        "best_score_all = min(best_loss4_1,best_loss4_2,best_loss4_3)\n",
        "print ('RESULTS FOR NN\\n')\n",
        "\n",
        "print(\"Best parameters set found:\",mlp4_2.get_params)\n",
        "#ADD YOUR CODE\n",
        "\n",
        "print(\"Minimum Loss with best parameters:\",best_score_all)\n",
        "best_accuracy = mlp4_2.score(X_train,y_train)\n",
        "print(\"Score with best parameters:\",best_accuracy)\n"
      ],
      "execution_count": null,
      "outputs": [
        {
          "name": "stderr",
          "output_type": "stream",
          "text": [
            "C:\\Users\\f\\Anaconda3\\lib\\site-packages\\sklearn\\neural_network\\_multilayer_perceptron.py:571: ConvergenceWarning: Stochastic Optimizer: Maximum iterations (600) reached and the optimization hasn't converged yet.\n",
            "  % self.max_iter, ConvergenceWarning)\n"
          ]
        },
        {
          "name": "stdout",
          "output_type": "stream",
          "text": [
            "Minimum Loss for Learning Rate 0.001 is: 0.5831848569479434\n"
          ]
        },
        {
          "name": "stderr",
          "output_type": "stream",
          "text": [
            "C:\\Users\\f\\Anaconda3\\lib\\site-packages\\sklearn\\neural_network\\_multilayer_perceptron.py:571: ConvergenceWarning: Stochastic Optimizer: Maximum iterations (600) reached and the optimization hasn't converged yet.\n",
            "  % self.max_iter, ConvergenceWarning)\n"
          ]
        },
        {
          "name": "stdout",
          "output_type": "stream",
          "text": [
            "Minimum Loss for Learning Rate 0.01 is: 0.03772288330234733\n",
            "Minimum Loss for Learning Rate 0.1 is: 0.07883283677854484\n",
            "RESULTS FOR NN\n",
            "\n",
            "Best parameters set found: <bound method BaseEstimator.get_params of MLPClassifier(activation='relu', alpha=0.0001, batch_size=480, beta_1=0.9,\n",
            "              beta_2=0.999, early_stopping=False, epsilon=1e-08,\n",
            "              hidden_layer_sizes=20, learning_rate='constant',\n",
            "              learning_rate_init=0.01, max_fun=15000, max_iter=600,\n",
            "              momentum=0.9, n_iter_no_change=10, nesterovs_momentum=True,\n",
            "              power_t=0.5, random_state=2014329, shuffle=True, solver='sgd',\n",
            "              tol=0.0001, validation_fraction=0.1, verbose=False,\n",
            "              warm_start=False)>\n",
            "Minimum Loss with best parameters: 0.03772288330234733\n",
            "Score with best parameters: 1.0\n"
          ]
        },
        {
          "data": {
            "image/png": "[encoded data removed]",
            "text/plain": [
              "<Figure size 1296x360 with 3 Axes>"
            ]
          },
          "metadata": {
            "needs_background": "light"
          },
          "output_type": "display_data"
        }
      ]
    },
    {
      "cell_type": "markdown",
      "metadata": {
        "id": "-8Wkk5OyFlYI"
      },
      "source": [
        "### QUESTION 3\n",
        "\n",
        "Comment about the learning curves (i.e. the variation of the loss over the steps). How does the curve changes for different learning rates in terms of stability and speed of convergence ?"
      ]
    },
    {
      "cell_type": "markdown",
      "metadata": {
        "id": "VRQjzPGIFlYJ"
      },
      "source": [
        "## [ANSWER TO QUESTION 3]\n",
        "With bigger learning rate we can not reach the best accuracy and it will lose the best accuracy. \n",
        "With learning rate = 0.01 we can achieve the best accuracy.\n",
        "with very small learning rate we can not find the minimum loss."
      ]
    },
    {
      "cell_type": "markdown",
      "metadata": {
        "id": "DBwFdVl1FlYJ"
      },
      "source": [
        "### TO DO 5\n",
        "\n",
        "Now get training and test error for a NN with best parameters (architecture, batch size and learning rate) from above. Plot the learning curve also for this case."
      ]
    },
    {
      "cell_type": "code",
      "metadata": {
        "scrolled": true,
        "id": "74rQhpF_FlYJ",
        "outputId": "210649f2-9f9b-4f07-bedf-c011d8196173"
      },
      "source": [
        "#get training and test error for the best NN model from CV\n",
        "\n",
        "mlp5 = MLPClassifier(hidden_layer_sizes=20, solver='sgd',tol=1e-4,batch_size=480, learning_rate_init=0.01,\n",
        "                       max_iter=600, shuffle=True, random_state=ID)\n",
        "train = mlp5.fit(X_train, y_train)\n",
        "training_error = train.best_loss_\n",
        "test = mlp5.fit(X_test, y_test)\n",
        "test_error = test.best_loss_\n",
        "print ('\\nRESULTS FOR BEST NN\\n')\n",
        "\n",
        "print (\"Best NN training error: %f\" % training_error)\n",
        "print (\"Best NN test error: %f\" % test_error)\n",
        "\n",
        "#ADD YOUR CODE FOR PLOTTING\n",
        "plt.plot(mlp5.loss_curve_)\n",
        "plt.title(\"Learning Curve\")\n",
        "plt.xlabel(\"Steps\")\n",
        "plt.ylabel(\"Loss\")"
      ],
      "execution_count": null,
      "outputs": [
        {
          "name": "stderr",
          "output_type": "stream",
          "text": [
            "C:\\Users\\f\\Anaconda3\\lib\\site-packages\\sklearn\\neural_network\\_multilayer_perceptron.py:571: ConvergenceWarning: Stochastic Optimizer: Maximum iterations (600) reached and the optimization hasn't converged yet.\n",
            "  % self.max_iter, ConvergenceWarning)\n"
          ]
        },
        {
          "name": "stdout",
          "output_type": "stream",
          "text": [
            "\n",
            "RESULTS FOR BEST NN\n",
            "\n",
            "Best NN training error: 0.037723\n",
            "Best NN test error: 0.079539\n"
          ]
        },
        {
          "name": "stderr",
          "output_type": "stream",
          "text": [
            "C:\\Users\\f\\Anaconda3\\lib\\site-packages\\sklearn\\neural_network\\_multilayer_perceptron.py:571: ConvergenceWarning: Stochastic Optimizer: Maximum iterations (600) reached and the optimization hasn't converged yet.\n",
            "  % self.max_iter, ConvergenceWarning)\n"
          ]
        },
        {
          "data": {
            "text/plain": [
              "Text(0, 0.5, 'Loss')"
            ]
          },
          "execution_count": 16,
          "metadata": {},
          "output_type": "execute_result"
        },
        {
          "data": {
            "image/png": "[encoded data removed]",
            "text/plain": [
              "<Figure size 432x288 with 1 Axes>"
            ]
          },
          "metadata": {
            "needs_background": "light"
          },
          "output_type": "display_data"
        }
      ]
    },
    {
      "cell_type": "markdown",
      "metadata": {
        "id": "p4XGR-APFlYJ"
      },
      "source": [
        "## More data \n",
        "Now let's do the same but using 4000 (or less if it takes too long on your machine) data points for training. Use the same NN architecture as before, but you can try more if you like and have a powerful computer!!"
      ]
    },
    {
      "cell_type": "code",
      "metadata": {
        "id": "kEa0g7lZFlYK",
        "outputId": "63542f85-664f-4c05-e7aa-b56b68b31bb6"
      },
      "source": [
        "X = X[permutation]\n",
        "y = y[permutation]\n",
        "\n",
        "m_training = 4000\n",
        "\n",
        "X_train6, X_test6 = X[:m_training], X[m_training:]\n",
        "y_train6, y_test6 = y[:m_training], y[m_training:]\n",
        "\n",
        "labels, freqs = np.unique(y_train, return_counts=True)\n",
        "print(\"Labels in training dataset: \", labels)\n",
        "print(\"Frequencies in training dataset: \", freqs)"
      ],
      "execution_count": null,
      "outputs": [
        {
          "name": "stdout",
          "output_type": "stream",
          "text": [
            "Labels in training dataset:  [0 1 2 3 4 5 6 7 8 9]\n",
            "Frequencies in training dataset:  [59 53 61 66 65 64 52 62 60 58]\n"
          ]
        }
      ]
    },
    {
      "cell_type": "markdown",
      "metadata": {
        "id": "zZSokVD8FlYK"
      },
      "source": [
        "### TO DO 6\n",
        "\n",
        "Now train the NNs with the added data points using the optimum parameters found above. Eventually, feel free to try different architectures if you like. We suggest that you use 'verbose=True' so have an idea of how long it takes to run 1 iteration (eventually reduce also the number of iterations to 50)."
      ]
    },
    {
      "cell_type": "code",
      "metadata": {
        "id": "9hCtuKkDFlYK",
        "outputId": "aa592641-7612-4e62-d9e6-3fe9b47267f0"
      },
      "source": [
        "# use best architecture and params from before\n",
        "\n",
        "mlp6 = MLPClassifier(hidden_layer_sizes=20, solver='sgd',tol=1e-4,batch_size=480, \n",
        "                     learning_rate_init=0.01,max_iter=600, shuffle=True, random_state=ID,verbose=True)\n",
        "\n",
        "#get training and test error for the NN\n",
        "train6 = mlp6.fit(X_train6, y_train6)\n",
        "training_error = train6.best_loss_\n",
        "test6 = mlp6.fit(X_test6, y_test6)\n",
        "test_error = test6.best_loss_\n",
        "#ADD YOUR CODE\n",
        "print ('\\nRESULTS FOR NN\\n')\n",
        "print (\"NN training error: %f\" % training_error)\n",
        "print (\"NN test error: %f\" % test_error)\n"
      ],
      "execution_count": null,
      "outputs": [
        {
          "name": "stdout",
          "output_type": "stream",
          "text": [
            "Iteration 1, loss = 2.27393440\n",
            "Iteration 2, loss = 1.79876142\n",
            "Iteration 3, loss = 1.49406816\n",
            "Iteration 4, loss = 1.25019037\n",
            "Iteration 5, loss = 1.08061077\n",
            "Iteration 6, loss = 0.97266189\n",
            "Iteration 7, loss = 0.90301129\n",
            "Iteration 8, loss = 0.85636152\n",
            "Iteration 9, loss = 0.82205274\n",
            "Iteration 10, loss = 0.79225820\n",
            "Iteration 11, loss = 0.76682645\n",
            "Iteration 12, loss = 0.74500522\n",
            "Iteration 13, loss = 0.72394746\n",
            "Iteration 14, loss = 0.70758082\n",
            "Iteration 15, loss = 0.69205468\n",
            "Iteration 16, loss = 0.67654837\n",
            "Iteration 17, loss = 0.66127655\n",
            "Iteration 18, loss = 0.65083559\n",
            "Iteration 19, loss = 0.63694559\n",
            "Iteration 20, loss = 0.62645527\n",
            "Iteration 21, loss = 0.61934099\n",
            "Iteration 22, loss = 0.60688054\n",
            "Iteration 23, loss = 0.59958608\n",
            "Iteration 24, loss = 0.59084650\n",
            "Iteration 25, loss = 0.58203108\n",
            "Iteration 26, loss = 0.57401642\n",
            "Iteration 27, loss = 0.56988760\n",
            "Iteration 28, loss = 0.55919647\n",
            "Iteration 29, loss = 0.55467519\n",
            "Iteration 30, loss = 0.54805246\n",
            "Iteration 31, loss = 0.54102741\n",
            "Iteration 32, loss = 0.53598592\n",
            "Iteration 33, loss = 0.53120439\n",
            "Iteration 34, loss = 0.52805280\n",
            "Iteration 35, loss = 0.52181035\n",
            "Iteration 36, loss = 0.51552491\n",
            "Iteration 37, loss = 0.51230717\n",
            "Iteration 38, loss = 0.50816727\n",
            "Iteration 39, loss = 0.50488543\n",
            "Iteration 40, loss = 0.50032052\n",
            "Iteration 41, loss = 0.49542442\n",
            "Iteration 42, loss = 0.49248880\n",
            "Iteration 43, loss = 0.48934302\n",
            "Iteration 44, loss = 0.48897493\n",
            "Iteration 45, loss = 0.48322602\n",
            "Iteration 46, loss = 0.48087994\n",
            "Iteration 47, loss = 0.47658855\n",
            "Iteration 48, loss = 0.47211903\n",
            "Iteration 49, loss = 0.47143204\n",
            "Iteration 50, loss = 0.46911866\n",
            "Iteration 51, loss = 0.46495328\n",
            "Iteration 52, loss = 0.46052186\n",
            "Iteration 53, loss = 0.46051181\n",
            "Iteration 54, loss = 0.45613037\n",
            "Iteration 55, loss = 0.45494877\n",
            "Iteration 56, loss = 0.45000831\n",
            "Iteration 57, loss = 0.44939373\n",
            "Iteration 58, loss = 0.44466521\n",
            "Iteration 59, loss = 0.44549231\n",
            "Iteration 60, loss = 0.44156570\n",
            "Iteration 61, loss = 0.43894602\n",
            "Iteration 62, loss = 0.43653666\n",
            "Iteration 63, loss = 0.43433726\n",
            "Iteration 64, loss = 0.43663892\n",
            "Iteration 65, loss = 0.43192696\n",
            "Iteration 66, loss = 0.42744716\n",
            "Iteration 67, loss = 0.42658343\n",
            "Iteration 68, loss = 0.42364730\n",
            "Iteration 69, loss = 0.42160294\n",
            "Iteration 70, loss = 0.41981491\n",
            "Iteration 71, loss = 0.41865826\n",
            "Iteration 72, loss = 0.41807749\n",
            "Iteration 73, loss = 0.41418906\n",
            "Iteration 74, loss = 0.41381838\n",
            "Iteration 75, loss = 0.41369466\n",
            "Iteration 76, loss = 0.40909712\n",
            "Iteration 77, loss = 0.40550155\n",
            "Iteration 78, loss = 0.40565426\n",
            "Iteration 79, loss = 0.40493047\n",
            "Iteration 80, loss = 0.40165350\n",
            "Iteration 81, loss = 0.39936057\n",
            "Iteration 82, loss = 0.39957381\n",
            "Iteration 83, loss = 0.39672534\n",
            "Iteration 84, loss = 0.39539016\n",
            "Iteration 85, loss = 0.39585305\n",
            "Iteration 86, loss = 0.39095340\n",
            "Iteration 87, loss = 0.39440829\n",
            "Iteration 88, loss = 0.38942162\n",
            "Iteration 89, loss = 0.38673770\n",
            "Iteration 90, loss = 0.38653075\n",
            "Iteration 91, loss = 0.38388868\n",
            "Iteration 92, loss = 0.38297588\n",
            "Iteration 93, loss = 0.38036979\n",
            "Iteration 94, loss = 0.38281649\n",
            "Iteration 95, loss = 0.37875968\n",
            "Iteration 96, loss = 0.37565168\n",
            "Iteration 97, loss = 0.37539888\n",
            "Iteration 98, loss = 0.37416045\n",
            "Iteration 99, loss = 0.37053268\n",
            "Iteration 100, loss = 0.37190685\n",
            "Iteration 101, loss = 0.37005612\n",
            "Iteration 102, loss = 0.36751120\n",
            "Iteration 103, loss = 0.36776453\n",
            "Iteration 104, loss = 0.36572723\n",
            "Iteration 105, loss = 0.36290692\n",
            "Iteration 106, loss = 0.36262852\n",
            "Iteration 107, loss = 0.36042362\n",
            "Iteration 108, loss = 0.36035641\n",
            "Iteration 109, loss = 0.35901643\n",
            "Iteration 110, loss = 0.35827925\n",
            "Iteration 111, loss = 0.35654257\n",
            "Iteration 112, loss = 0.35349444\n",
            "Iteration 113, loss = 0.35308857\n",
            "Iteration 114, loss = 0.35280556\n",
            "Iteration 115, loss = 0.35141963\n",
            "Iteration 116, loss = 0.35040668\n",
            "Iteration 117, loss = 0.34838848\n",
            "Iteration 118, loss = 0.34657118\n",
            "Iteration 119, loss = 0.34776950\n",
            "Iteration 120, loss = 0.34396322\n",
            "Iteration 121, loss = 0.34422222\n",
            "Iteration 122, loss = 0.34056501\n",
            "Iteration 123, loss = 0.33952355\n",
            "Iteration 124, loss = 0.33807907\n",
            "Iteration 125, loss = 0.33854876\n",
            "Iteration 126, loss = 0.33593227\n",
            "Iteration 127, loss = 0.33654091\n",
            "Iteration 128, loss = 0.33483957\n",
            "Iteration 129, loss = 0.33234662\n",
            "Iteration 130, loss = 0.33283525\n",
            "Iteration 131, loss = 0.33168849\n",
            "Iteration 132, loss = 0.32911369\n",
            "Iteration 133, loss = 0.33048658\n",
            "Iteration 134, loss = 0.32753193\n",
            "Iteration 135, loss = 0.32534790\n",
            "Iteration 136, loss = 0.32349975\n",
            "Iteration 137, loss = 0.32469057\n",
            "Iteration 138, loss = 0.32051412\n",
            "Iteration 139, loss = 0.32185341\n",
            "Iteration 140, loss = 0.31919965\n",
            "Iteration 141, loss = 0.31866698\n",
            "Iteration 142, loss = 0.31799615\n",
            "Iteration 143, loss = 0.31945026\n",
            "Iteration 144, loss = 0.31432927\n",
            "Iteration 145, loss = 0.31303520\n",
            "Iteration 146, loss = 0.31550788\n",
            "Iteration 147, loss = 0.31291607\n",
            "Iteration 148, loss = 0.30964989\n",
            "Iteration 149, loss = 0.30862710\n",
            "Iteration 150, loss = 0.31051969\n",
            "Iteration 151, loss = 0.30662273\n",
            "Iteration 152, loss = 0.30554457\n",
            "Iteration 153, loss = 0.30813191\n",
            "Iteration 154, loss = 0.30869360\n",
            "Iteration 155, loss = 0.30530243\n",
            "Iteration 156, loss = 0.30367971\n",
            "Iteration 157, loss = 0.30161783\n",
            "Iteration 158, loss = 0.29934400\n",
            "Iteration 159, loss = 0.29966724\n",
            "Iteration 160, loss = 0.29757928\n",
            "Iteration 161, loss = 0.29993000\n",
            "Iteration 162, loss = 0.29583328\n",
            "Iteration 163, loss = 0.29463518\n",
            "Iteration 164, loss = 0.29394377\n",
            "Iteration 165, loss = 0.29470738\n",
            "Iteration 166, loss = 0.29055361\n",
            "Iteration 167, loss = 0.29193286\n",
            "Iteration 168, loss = 0.29123911\n",
            "Iteration 169, loss = 0.28873944\n",
            "Iteration 170, loss = 0.28821887\n",
            "Iteration 171, loss = 0.28713438\n",
            "Iteration 172, loss = 0.28663451\n",
            "Iteration 173, loss = 0.28462328\n",
            "Iteration 174, loss = 0.28465782\n",
            "Iteration 175, loss = 0.28452840\n",
            "Iteration 176, loss = 0.28336694\n",
            "Iteration 177, loss = 0.28032295\n",
            "Iteration 178, loss = 0.27924031\n",
            "Iteration 179, loss = 0.27751191\n",
            "Iteration 180, loss = 0.27929303\n",
            "Iteration 181, loss = 0.27628333\n",
            "Iteration 182, loss = 0.27808175\n",
            "Iteration 183, loss = 0.27566976\n",
            "Iteration 184, loss = 0.27431894\n",
            "Iteration 185, loss = 0.27192641\n",
            "Iteration 186, loss = 0.27358759\n",
            "Iteration 187, loss = 0.27093341\n",
            "Iteration 188, loss = 0.27032309\n",
            "Iteration 189, loss = 0.27046956\n",
            "Iteration 190, loss = 0.26960406\n",
            "Iteration 191, loss = 0.26814386\n",
            "Iteration 192, loss = 0.26577784\n",
            "Iteration 193, loss = 0.26743663\n",
            "Iteration 194, loss = 0.26411432\n",
            "Iteration 195, loss = 0.26312749\n",
            "Iteration 196, loss = 0.26264382\n",
            "Iteration 197, loss = 0.26435510\n",
            "Iteration 198, loss = 0.26141323\n",
            "Iteration 199, loss = 0.26101978\n",
            "Iteration 200, loss = 0.26095453\n",
            "Iteration 201, loss = 0.25797172\n",
            "Iteration 202, loss = 0.25817421\n",
            "Iteration 203, loss = 0.25791797\n",
            "Iteration 204, loss = 0.25650504\n",
            "Iteration 205, loss = 0.25577024\n",
            "Iteration 206, loss = 0.25339805\n",
            "Iteration 207, loss = 0.25470444\n",
            "Iteration 208, loss = 0.25266891\n",
            "Iteration 209, loss = 0.25298816\n",
            "Iteration 210, loss = 0.25024606\n",
            "Iteration 211, loss = 0.25083952\n",
            "Iteration 212, loss = 0.24830166\n",
            "Iteration 213, loss = 0.24915229\n",
            "Iteration 214, loss = 0.24839370\n",
            "Iteration 215, loss = 0.24697258\n",
            "Iteration 216, loss = 0.25031502\n",
            "Iteration 217, loss = 0.24450868\n",
            "Iteration 218, loss = 0.24429620\n",
            "Iteration 219, loss = 0.24428168\n",
            "Iteration 220, loss = 0.24064996\n",
            "Iteration 221, loss = 0.24170949\n",
            "Iteration 222, loss = 0.24100273\n",
            "Iteration 223, loss = 0.24007306\n",
            "Iteration 224, loss = 0.24028776\n",
            "Iteration 225, loss = 0.24014476\n",
            "Iteration 226, loss = 0.23825132\n",
            "Iteration 227, loss = 0.23863139\n",
            "Iteration 228, loss = 0.23669337\n",
            "Iteration 229, loss = 0.23680816\n",
            "Iteration 230, loss = 0.23856261\n",
            "Iteration 231, loss = 0.24143970\n",
            "Iteration 232, loss = 0.23439379\n",
            "Iteration 233, loss = 0.23145818\n",
            "Iteration 234, loss = 0.23132215\n",
            "Iteration 235, loss = 0.23151847\n",
            "Iteration 236, loss = 0.22892307\n",
            "Iteration 237, loss = 0.22820741\n",
            "Iteration 238, loss = 0.22993493\n",
            "Iteration 239, loss = 0.22595346\n",
            "Iteration 240, loss = 0.22869255\n",
            "Iteration 241, loss = 0.22798637\n",
            "Iteration 242, loss = 0.22402892\n",
            "Iteration 243, loss = 0.22943724\n",
            "Iteration 244, loss = 0.22494137\n",
            "Iteration 245, loss = 0.22158159\n",
            "Iteration 246, loss = 0.22145265\n",
            "Iteration 247, loss = 0.22225016\n",
            "Iteration 248, loss = 0.22161845\n",
            "Iteration 249, loss = 0.22155335\n",
            "Iteration 250, loss = 0.21947244\n",
            "Iteration 251, loss = 0.21852554\n",
            "Iteration 252, loss = 0.21795887\n",
            "Iteration 253, loss = 0.22040484\n",
            "Iteration 254, loss = 0.21806621\n"
          ]
        },
        {
          "name": "stdout",
          "output_type": "stream",
          "text": [
            "Iteration 255, loss = 0.21739028\n",
            "Iteration 256, loss = 0.21630946\n",
            "Iteration 257, loss = 0.21541954\n",
            "Iteration 258, loss = 0.21472893\n",
            "Iteration 259, loss = 0.21194153\n",
            "Iteration 260, loss = 0.21506459\n",
            "Iteration 261, loss = 0.21047177\n",
            "Iteration 262, loss = 0.21070533\n",
            "Iteration 263, loss = 0.21114766\n",
            "Iteration 264, loss = 0.21041349\n",
            "Iteration 265, loss = 0.21096858\n",
            "Iteration 266, loss = 0.20813921\n",
            "Iteration 267, loss = 0.20852501\n",
            "Iteration 268, loss = 0.21050256\n",
            "Iteration 269, loss = 0.20520563\n",
            "Iteration 270, loss = 0.20523891\n",
            "Iteration 271, loss = 0.20568627\n",
            "Iteration 272, loss = 0.20431863\n",
            "Iteration 273, loss = 0.20230000\n",
            "Iteration 274, loss = 0.20550535\n",
            "Iteration 275, loss = 0.20799906\n",
            "Iteration 276, loss = 0.20140133\n",
            "Iteration 277, loss = 0.20368423\n",
            "Iteration 278, loss = 0.20208639\n",
            "Iteration 279, loss = 0.19993944\n",
            "Iteration 280, loss = 0.20035186\n",
            "Iteration 281, loss = 0.19728702\n",
            "Iteration 282, loss = 0.19871268\n",
            "Iteration 283, loss = 0.19953744\n",
            "Iteration 284, loss = 0.19820524\n",
            "Iteration 285, loss = 0.19622564\n",
            "Iteration 286, loss = 0.19432830\n",
            "Iteration 287, loss = 0.19547917\n",
            "Iteration 288, loss = 0.19592379\n",
            "Iteration 289, loss = 0.19255654\n",
            "Iteration 290, loss = 0.19186646\n",
            "Iteration 291, loss = 0.19222529\n",
            "Iteration 292, loss = 0.19359876\n",
            "Iteration 293, loss = 0.18909082\n",
            "Iteration 294, loss = 0.19056996\n",
            "Iteration 295, loss = 0.18944103\n",
            "Iteration 296, loss = 0.19014274\n",
            "Iteration 297, loss = 0.18769644\n",
            "Iteration 298, loss = 0.19049683\n",
            "Iteration 299, loss = 0.18904855\n",
            "Iteration 300, loss = 0.18706436\n",
            "Iteration 301, loss = 0.18901674\n",
            "Iteration 302, loss = 0.18550895\n",
            "Iteration 303, loss = 0.18703605\n",
            "Iteration 304, loss = 0.18453105\n",
            "Iteration 305, loss = 0.18386425\n",
            "Iteration 306, loss = 0.18302918\n",
            "Iteration 307, loss = 0.18200462\n",
            "Iteration 308, loss = 0.18323558\n",
            "Iteration 309, loss = 0.18367750\n",
            "Iteration 310, loss = 0.17946800\n",
            "Iteration 311, loss = 0.17950340\n",
            "Iteration 312, loss = 0.17918807\n",
            "Iteration 313, loss = 0.17948249\n",
            "Iteration 314, loss = 0.18172665\n",
            "Iteration 315, loss = 0.17863981\n",
            "Iteration 316, loss = 0.17925876\n",
            "Iteration 317, loss = 0.17806121\n",
            "Iteration 318, loss = 0.17687142\n",
            "Iteration 319, loss = 0.17680110\n",
            "Iteration 320, loss = 0.17734025\n",
            "Iteration 321, loss = 0.17483331\n",
            "Iteration 322, loss = 0.17359419\n",
            "Iteration 323, loss = 0.17357340\n",
            "Iteration 324, loss = 0.17360273\n",
            "Iteration 325, loss = 0.17665260\n",
            "Iteration 326, loss = 0.17326033\n",
            "Iteration 327, loss = 0.17161272\n",
            "Iteration 328, loss = 0.17201629\n",
            "Iteration 329, loss = 0.17375232\n",
            "Iteration 330, loss = 0.17147505\n",
            "Iteration 331, loss = 0.16967735\n",
            "Iteration 332, loss = 0.16961662\n",
            "Iteration 333, loss = 0.16872580\n",
            "Iteration 334, loss = 0.17208608\n",
            "Iteration 335, loss = 0.16804915\n",
            "Iteration 336, loss = 0.16609943\n",
            "Iteration 337, loss = 0.16650011\n",
            "Iteration 338, loss = 0.16737051\n",
            "Iteration 339, loss = 0.16856044\n",
            "Iteration 340, loss = 0.16478861\n",
            "Iteration 341, loss = 0.16222760\n",
            "Iteration 342, loss = 0.16396429\n",
            "Iteration 343, loss = 0.16601513\n",
            "Iteration 344, loss = 0.16313123\n",
            "Iteration 345, loss = 0.16400281\n",
            "Iteration 346, loss = 0.16261946\n",
            "Iteration 347, loss = 0.16148647\n",
            "Iteration 348, loss = 0.16251224\n",
            "Iteration 349, loss = 0.16078207\n",
            "Iteration 350, loss = 0.15833243\n",
            "Iteration 351, loss = 0.15915339\n",
            "Iteration 352, loss = 0.16200113\n",
            "Iteration 353, loss = 0.15770465\n",
            "Iteration 354, loss = 0.15828603\n",
            "Iteration 355, loss = 0.15684911\n",
            "Iteration 356, loss = 0.15634799\n",
            "Iteration 357, loss = 0.15807863\n",
            "Iteration 358, loss = 0.15667181\n",
            "Iteration 359, loss = 0.15599408\n",
            "Iteration 360, loss = 0.15392532\n",
            "Iteration 361, loss = 0.15470210\n",
            "Iteration 362, loss = 0.15528830\n",
            "Iteration 363, loss = 0.15542328\n",
            "Iteration 364, loss = 0.15797756\n",
            "Iteration 365, loss = 0.15135567\n",
            "Iteration 366, loss = 0.15226493\n",
            "Iteration 367, loss = 0.15481648\n",
            "Iteration 368, loss = 0.15220196\n",
            "Iteration 369, loss = 0.15283518\n",
            "Iteration 370, loss = 0.14930966\n",
            "Iteration 371, loss = 0.14950648\n",
            "Iteration 372, loss = 0.14928126\n",
            "Iteration 373, loss = 0.15110388\n",
            "Iteration 374, loss = 0.14751313\n",
            "Iteration 375, loss = 0.15049109\n",
            "Iteration 376, loss = 0.14626477\n",
            "Iteration 377, loss = 0.14761239\n",
            "Iteration 378, loss = 0.14631564\n",
            "Iteration 379, loss = 0.14812178\n",
            "Iteration 380, loss = 0.14431075\n",
            "Iteration 381, loss = 0.14742285\n",
            "Iteration 382, loss = 0.14544819\n",
            "Iteration 383, loss = 0.14437044\n",
            "Iteration 384, loss = 0.14510643\n",
            "Iteration 385, loss = 0.14531807\n",
            "Iteration 386, loss = 0.14328002\n",
            "Iteration 387, loss = 0.14130453\n",
            "Iteration 388, loss = 0.14551563\n",
            "Iteration 389, loss = 0.14096335\n",
            "Iteration 390, loss = 0.14106245\n",
            "Iteration 391, loss = 0.13956451\n",
            "Iteration 392, loss = 0.13903758\n",
            "Iteration 393, loss = 0.14058562\n",
            "Iteration 394, loss = 0.14029633\n",
            "Iteration 395, loss = 0.13917159\n",
            "Iteration 396, loss = 0.13900881\n",
            "Iteration 397, loss = 0.13901904\n",
            "Iteration 398, loss = 0.13652180\n",
            "Iteration 399, loss = 0.13890623\n",
            "Iteration 400, loss = 0.13664441\n",
            "Iteration 401, loss = 0.14109245\n",
            "Iteration 402, loss = 0.13563098\n",
            "Iteration 403, loss = 0.13932078\n",
            "Iteration 404, loss = 0.13624762\n",
            "Iteration 405, loss = 0.13412561\n",
            "Iteration 406, loss = 0.13360801\n",
            "Iteration 407, loss = 0.13468501\n",
            "Iteration 408, loss = 0.13540349\n",
            "Iteration 409, loss = 0.13541366\n",
            "Iteration 410, loss = 0.13207343\n",
            "Iteration 411, loss = 0.13406013\n",
            "Iteration 412, loss = 0.13178892\n",
            "Iteration 413, loss = 0.13247839\n",
            "Iteration 414, loss = 0.13498468\n",
            "Iteration 415, loss = 0.13206733\n",
            "Iteration 416, loss = 0.13038096\n",
            "Iteration 417, loss = 0.12981371\n",
            "Iteration 418, loss = 0.12997219\n",
            "Iteration 419, loss = 0.13109837\n",
            "Iteration 420, loss = 0.12981430\n",
            "Iteration 421, loss = 0.12975412\n",
            "Iteration 422, loss = 0.12886300\n",
            "Iteration 423, loss = 0.12865609\n",
            "Iteration 424, loss = 0.13109035\n",
            "Iteration 425, loss = 0.12584791\n",
            "Iteration 426, loss = 0.12761644\n",
            "Iteration 427, loss = 0.12748362\n",
            "Iteration 428, loss = 0.12781415\n",
            "Iteration 429, loss = 0.12598294\n",
            "Iteration 430, loss = 0.12585472\n",
            "Iteration 431, loss = 0.12538201\n",
            "Iteration 432, loss = 0.12426958\n",
            "Iteration 433, loss = 0.12290847\n",
            "Iteration 434, loss = 0.12336388\n",
            "Iteration 435, loss = 0.12396936\n",
            "Iteration 436, loss = 0.12461795\n",
            "Iteration 437, loss = 0.12618139\n",
            "Iteration 438, loss = 0.12332016\n",
            "Iteration 439, loss = 0.12306232\n",
            "Iteration 440, loss = 0.12628106\n",
            "Iteration 441, loss = 0.12068811\n",
            "Iteration 442, loss = 0.12192337\n",
            "Iteration 443, loss = 0.12114706\n",
            "Iteration 444, loss = 0.12095702\n",
            "Iteration 445, loss = 0.11978773\n",
            "Iteration 446, loss = 0.11911213\n",
            "Iteration 447, loss = 0.11961974\n",
            "Iteration 448, loss = 0.12045480\n",
            "Iteration 449, loss = 0.11927277\n",
            "Iteration 450, loss = 0.12025369\n",
            "Iteration 451, loss = 0.11669115\n",
            "Iteration 452, loss = 0.11711814\n",
            "Iteration 453, loss = 0.11826430\n",
            "Iteration 454, loss = 0.11931398\n",
            "Iteration 455, loss = 0.11892651\n",
            "Iteration 456, loss = 0.11658416\n",
            "Iteration 457, loss = 0.11718640\n",
            "Iteration 458, loss = 0.11497852\n",
            "Iteration 459, loss = 0.11797226\n",
            "Iteration 460, loss = 0.11748089\n",
            "Iteration 461, loss = 0.11475269\n",
            "Iteration 462, loss = 0.11474125\n",
            "Iteration 463, loss = 0.11591408\n",
            "Iteration 464, loss = 0.12026344\n",
            "Iteration 465, loss = 0.11433722\n",
            "Iteration 466, loss = 0.11491052\n",
            "Iteration 467, loss = 0.11343946\n",
            "Iteration 468, loss = 0.11245493\n",
            "Iteration 469, loss = 0.11541204\n",
            "Iteration 470, loss = 0.11339626\n",
            "Iteration 471, loss = 0.11402505\n",
            "Iteration 472, loss = 0.11362646\n",
            "Iteration 473, loss = 0.11094786\n",
            "Iteration 474, loss = 0.11055659\n",
            "Iteration 475, loss = 0.10995906\n",
            "Iteration 476, loss = 0.10852301\n",
            "Iteration 477, loss = 0.10945119\n",
            "Iteration 478, loss = 0.10961824\n",
            "Iteration 479, loss = 0.10870017\n",
            "Iteration 480, loss = 0.10799124\n",
            "Iteration 481, loss = 0.10776009\n",
            "Iteration 482, loss = 0.10864158\n",
            "Iteration 483, loss = 0.10657997\n",
            "Iteration 484, loss = 0.10910999\n",
            "Iteration 485, loss = 0.10757939\n",
            "Iteration 486, loss = 0.10622509\n",
            "Iteration 487, loss = 0.10596695\n",
            "Iteration 488, loss = 0.10555000\n",
            "Iteration 489, loss = 0.11444854\n",
            "Iteration 490, loss = 0.10545544\n",
            "Iteration 491, loss = 0.10485648\n",
            "Iteration 492, loss = 0.10810370\n",
            "Iteration 493, loss = 0.10436169\n",
            "Iteration 494, loss = 0.10421168\n",
            "Iteration 495, loss = 0.10558624\n",
            "Iteration 496, loss = 0.10189882\n",
            "Iteration 497, loss = 0.10414427\n",
            "Iteration 498, loss = 0.10974196\n",
            "Iteration 499, loss = 0.10558589\n",
            "Iteration 500, loss = 0.10277784\n",
            "Iteration 501, loss = 0.10262793\n",
            "Iteration 502, loss = 0.10235308\n",
            "Iteration 503, loss = 0.10340759\n",
            "Iteration 504, loss = 0.10161143\n"
          ]
        },
        {
          "name": "stdout",
          "output_type": "stream",
          "text": [
            "Iteration 505, loss = 0.10548727\n",
            "Iteration 506, loss = 0.10091309\n",
            "Iteration 507, loss = 0.09950066\n",
            "Iteration 508, loss = 0.09989967\n",
            "Iteration 509, loss = 0.09957878\n",
            "Iteration 510, loss = 0.09841763\n",
            "Iteration 511, loss = 0.10794626\n",
            "Iteration 512, loss = 0.10096225\n",
            "Iteration 513, loss = 0.09821335\n",
            "Iteration 514, loss = 0.09816389\n",
            "Iteration 515, loss = 0.09808612\n",
            "Iteration 516, loss = 0.09765291\n",
            "Iteration 517, loss = 0.09732111\n",
            "Iteration 518, loss = 0.10047684\n",
            "Iteration 519, loss = 0.09996153\n",
            "Iteration 520, loss = 0.09876130\n",
            "Iteration 521, loss = 0.09854261\n",
            "Iteration 522, loss = 0.09752688\n",
            "Iteration 523, loss = 0.09661268\n",
            "Iteration 524, loss = 0.09514579\n",
            "Iteration 525, loss = 0.09539635\n",
            "Iteration 526, loss = 0.09595913\n",
            "Iteration 527, loss = 0.09533346\n",
            "Iteration 528, loss = 0.09424821\n",
            "Iteration 529, loss = 0.09743637\n",
            "Iteration 530, loss = 0.09408035\n",
            "Iteration 531, loss = 0.09404747\n",
            "Iteration 532, loss = 0.09346512\n",
            "Iteration 533, loss = 0.09310599\n",
            "Iteration 534, loss = 0.09496810\n",
            "Iteration 535, loss = 0.09306269\n",
            "Iteration 536, loss = 0.09249279\n",
            "Iteration 537, loss = 0.09235314\n",
            "Iteration 538, loss = 0.09223829\n",
            "Iteration 539, loss = 0.09073940\n",
            "Iteration 540, loss = 0.09509798\n",
            "Iteration 541, loss = 0.09437803\n",
            "Iteration 542, loss = 0.09062862\n",
            "Iteration 543, loss = 0.09105498\n",
            "Iteration 544, loss = 0.09319573\n",
            "Iteration 545, loss = 0.09166621\n",
            "Iteration 546, loss = 0.09029738\n",
            "Iteration 547, loss = 0.08994945\n",
            "Iteration 548, loss = 0.09049559\n",
            "Iteration 549, loss = 0.08926287\n",
            "Iteration 550, loss = 0.09076023\n",
            "Iteration 551, loss = 0.09172767\n",
            "Iteration 552, loss = 0.08795684\n",
            "Iteration 553, loss = 0.08820489\n",
            "Iteration 554, loss = 0.08725985\n",
            "Iteration 555, loss = 0.08867863\n",
            "Iteration 556, loss = 0.08729733\n",
            "Iteration 557, loss = 0.08628065\n",
            "Iteration 558, loss = 0.08662545\n",
            "Iteration 559, loss = 0.08893711\n",
            "Iteration 560, loss = 0.08692409\n",
            "Iteration 561, loss = 0.08633464\n",
            "Iteration 562, loss = 0.08845596\n",
            "Iteration 563, loss = 0.08683310\n",
            "Iteration 564, loss = 0.08685388\n",
            "Iteration 565, loss = 0.08750254\n",
            "Iteration 566, loss = 0.08514815\n",
            "Iteration 567, loss = 0.08697253\n",
            "Iteration 568, loss = 0.08418828\n",
            "Iteration 569, loss = 0.08644088\n",
            "Iteration 570, loss = 0.08381566\n",
            "Iteration 571, loss = 0.08290980\n",
            "Iteration 572, loss = 0.08487568\n",
            "Iteration 573, loss = 0.08405116\n",
            "Iteration 574, loss = 0.08268229\n",
            "Iteration 575, loss = 0.08334194\n",
            "Iteration 576, loss = 0.08327910\n",
            "Iteration 577, loss = 0.08203717\n",
            "Iteration 578, loss = 0.08183737\n",
            "Iteration 579, loss = 0.08251748\n",
            "Iteration 580, loss = 0.08225199\n",
            "Iteration 581, loss = 0.08086295\n",
            "Iteration 582, loss = 0.08316519\n",
            "Iteration 583, loss = 0.08148142\n",
            "Iteration 584, loss = 0.08100353\n",
            "Iteration 585, loss = 0.08178670\n",
            "Iteration 586, loss = 0.08318704\n",
            "Iteration 587, loss = 0.08086329\n",
            "Iteration 588, loss = 0.08045203\n",
            "Iteration 589, loss = 0.08041638\n",
            "Iteration 590, loss = 0.08049783\n",
            "Iteration 591, loss = 0.08089027\n",
            "Iteration 592, loss = 0.08290401\n",
            "Iteration 593, loss = 0.07937660\n",
            "Iteration 594, loss = 0.08308868\n",
            "Iteration 595, loss = 0.08130815\n",
            "Iteration 596, loss = 0.07833109\n",
            "Iteration 597, loss = 0.07945029\n",
            "Iteration 598, loss = 0.07834434\n",
            "Iteration 599, loss = 0.07801223\n",
            "Iteration 600, loss = 0.07798177\n"
          ]
        },
        {
          "name": "stderr",
          "output_type": "stream",
          "text": [
            "C:\\Users\\f\\Anaconda3\\lib\\site-packages\\sklearn\\neural_network\\_multilayer_perceptron.py:571: ConvergenceWarning: Stochastic Optimizer: Maximum iterations (600) reached and the optimization hasn't converged yet.\n",
            "  % self.max_iter, ConvergenceWarning)\n"
          ]
        },
        {
          "name": "stdout",
          "output_type": "stream",
          "text": [
            "Iteration 1, loss = 1.11070111\n",
            "Iteration 2, loss = 0.64159199\n",
            "Iteration 3, loss = 0.55209037\n",
            "Iteration 4, loss = 0.51084506\n",
            "Iteration 5, loss = 0.48715944\n",
            "Iteration 6, loss = 0.47006649\n",
            "Iteration 7, loss = 0.45731805\n",
            "Iteration 8, loss = 0.44773515\n",
            "Iteration 9, loss = 0.44019770\n",
            "Iteration 10, loss = 0.43241311\n",
            "Iteration 11, loss = 0.42635996\n",
            "Iteration 12, loss = 0.42022239\n",
            "Iteration 13, loss = 0.41497726\n",
            "Iteration 14, loss = 0.41173873\n",
            "Iteration 15, loss = 0.40654554\n",
            "Iteration 16, loss = 0.40270966\n",
            "Iteration 17, loss = 0.39853029\n",
            "Iteration 18, loss = 0.39394160\n",
            "Iteration 19, loss = 0.39060341\n",
            "Iteration 20, loss = 0.38714552\n",
            "Iteration 21, loss = 0.38432467\n",
            "Iteration 22, loss = 0.38170887\n",
            "Iteration 23, loss = 0.37870923\n",
            "Iteration 24, loss = 0.37561510\n",
            "Iteration 25, loss = 0.37361922\n",
            "Iteration 26, loss = 0.37111239\n",
            "Iteration 27, loss = 0.36875410\n",
            "Iteration 28, loss = 0.36658071\n",
            "Iteration 29, loss = 0.36414245\n",
            "Iteration 30, loss = 0.36309387\n",
            "Iteration 31, loss = 0.36027163\n",
            "Iteration 32, loss = 0.35952264\n",
            "Iteration 33, loss = 0.35651374\n",
            "Iteration 34, loss = 0.35537207\n",
            "Iteration 35, loss = 0.35378126\n",
            "Iteration 36, loss = 0.35277760\n",
            "Iteration 37, loss = 0.35076411\n",
            "Iteration 38, loss = 0.34899320\n",
            "Iteration 39, loss = 0.34798310\n",
            "Iteration 40, loss = 0.34565628\n",
            "Iteration 41, loss = 0.34415727\n",
            "Iteration 42, loss = 0.34258394\n",
            "Iteration 43, loss = 0.34209746\n",
            "Iteration 44, loss = 0.34011317\n",
            "Iteration 45, loss = 0.33925074\n",
            "Iteration 46, loss = 0.33744788\n",
            "Iteration 47, loss = 0.33584007\n",
            "Iteration 48, loss = 0.33494668\n",
            "Iteration 49, loss = 0.33404127\n",
            "Iteration 50, loss = 0.33305228\n",
            "Iteration 51, loss = 0.33239773\n",
            "Iteration 52, loss = 0.33034112\n",
            "Iteration 53, loss = 0.32875329\n",
            "Iteration 54, loss = 0.32809159\n",
            "Iteration 55, loss = 0.32709142\n",
            "Iteration 56, loss = 0.32578459\n",
            "Iteration 57, loss = 0.32514999\n",
            "Iteration 58, loss = 0.32358890\n",
            "Iteration 59, loss = 0.32264847\n",
            "Iteration 60, loss = 0.32198699\n",
            "Iteration 61, loss = 0.32084200\n",
            "Iteration 62, loss = 0.32035417\n",
            "Iteration 63, loss = 0.31896560\n",
            "Iteration 64, loss = 0.31863780\n",
            "Iteration 65, loss = 0.31670261\n",
            "Iteration 66, loss = 0.31663830\n",
            "Iteration 67, loss = 0.31589664\n",
            "Iteration 68, loss = 0.31472765\n",
            "Iteration 69, loss = 0.31297371\n",
            "Iteration 70, loss = 0.31355770\n",
            "Iteration 71, loss = 0.31199835\n",
            "Iteration 72, loss = 0.31079858\n",
            "Iteration 73, loss = 0.31028788\n",
            "Iteration 74, loss = 0.30982227\n",
            "Iteration 75, loss = 0.30894256\n",
            "Iteration 76, loss = 0.30789306\n",
            "Iteration 77, loss = 0.30730150\n",
            "Iteration 78, loss = 0.30672874\n",
            "Iteration 79, loss = 0.30619365\n",
            "Iteration 80, loss = 0.30552567\n",
            "Iteration 81, loss = 0.30497140\n",
            "Iteration 82, loss = 0.30422631\n",
            "Iteration 83, loss = 0.30382205\n",
            "Iteration 84, loss = 0.30307261\n",
            "Iteration 85, loss = 0.30236163\n",
            "Iteration 86, loss = 0.30195446\n",
            "Iteration 87, loss = 0.30161336\n",
            "Iteration 88, loss = 0.30024906\n",
            "Iteration 89, loss = 0.29970327\n",
            "Iteration 90, loss = 0.29887324\n",
            "Iteration 91, loss = 0.29864575\n",
            "Iteration 92, loss = 0.29803686\n",
            "Iteration 93, loss = 0.29753045\n",
            "Iteration 94, loss = 0.29698206\n",
            "Iteration 95, loss = 0.29610183\n",
            "Iteration 96, loss = 0.29644231\n",
            "Iteration 97, loss = 0.29525335\n",
            "Iteration 98, loss = 0.29453376\n",
            "Iteration 99, loss = 0.29392373\n",
            "Iteration 100, loss = 0.29487869\n",
            "Iteration 101, loss = 0.29306057\n",
            "Iteration 102, loss = 0.29255735\n",
            "Iteration 103, loss = 0.29224678\n",
            "Iteration 104, loss = 0.29181326\n",
            "Iteration 105, loss = 0.29107969\n",
            "Iteration 106, loss = 0.29090044\n",
            "Iteration 107, loss = 0.29105342\n",
            "Iteration 108, loss = 0.29019832\n",
            "Iteration 109, loss = 0.28924441\n",
            "Iteration 110, loss = 0.28921426\n",
            "Iteration 111, loss = 0.28783378\n",
            "Iteration 112, loss = 0.28831975\n",
            "Iteration 113, loss = 0.28748293\n",
            "Iteration 114, loss = 0.28727270\n",
            "Iteration 115, loss = 0.28600329\n",
            "Iteration 116, loss = 0.28634131\n",
            "Iteration 117, loss = 0.28531484\n",
            "Iteration 118, loss = 0.28538874\n",
            "Iteration 119, loss = 0.28457482\n",
            "Iteration 120, loss = 0.28483040\n",
            "Iteration 121, loss = 0.28400643\n",
            "Iteration 122, loss = 0.28431251\n",
            "Iteration 123, loss = 0.28330182\n",
            "Iteration 124, loss = 0.28301580\n",
            "Iteration 125, loss = 0.28294501\n",
            "Iteration 126, loss = 0.28156012\n",
            "Iteration 127, loss = 0.28147583\n",
            "Iteration 128, loss = 0.28201438\n",
            "Iteration 129, loss = 0.28156486\n",
            "Iteration 130, loss = 0.28040930\n",
            "Iteration 131, loss = 0.27983903\n",
            "Iteration 132, loss = 0.27930778\n",
            "Iteration 133, loss = 0.28005924\n",
            "Iteration 134, loss = 0.27919525\n",
            "Iteration 135, loss = 0.27888746\n",
            "Iteration 136, loss = 0.27850270\n",
            "Iteration 137, loss = 0.27750713\n",
            "Iteration 138, loss = 0.27769591\n",
            "Iteration 139, loss = 0.27699465\n",
            "Iteration 140, loss = 0.27673832\n",
            "Iteration 141, loss = 0.27623204\n",
            "Iteration 142, loss = 0.27593358\n",
            "Iteration 143, loss = 0.27554834\n",
            "Iteration 144, loss = 0.27517067\n",
            "Iteration 145, loss = 0.27501463\n",
            "Iteration 146, loss = 0.27464828\n",
            "Iteration 147, loss = 0.27413733\n",
            "Iteration 148, loss = 0.27374656\n",
            "Iteration 149, loss = 0.27323926\n",
            "Iteration 150, loss = 0.27293584\n",
            "Iteration 151, loss = 0.27302670\n",
            "Iteration 152, loss = 0.27167885\n",
            "Iteration 153, loss = 0.27199305\n",
            "Iteration 154, loss = 0.27149638\n",
            "Iteration 155, loss = 0.27124633\n",
            "Iteration 156, loss = 0.27103112\n",
            "Iteration 157, loss = 0.27050702\n",
            "Iteration 158, loss = 0.27079291\n",
            "Iteration 159, loss = 0.26926732\n",
            "Iteration 160, loss = 0.26912334\n",
            "Iteration 161, loss = 0.26884082\n",
            "Iteration 162, loss = 0.26941418\n",
            "Iteration 163, loss = 0.26884407\n",
            "Iteration 164, loss = 0.26821838\n",
            "Iteration 165, loss = 0.26838668\n",
            "Iteration 166, loss = 0.26814593\n",
            "Iteration 167, loss = 0.26723255\n",
            "Iteration 168, loss = 0.26682131\n",
            "Iteration 169, loss = 0.26706930\n",
            "Iteration 170, loss = 0.26673921\n",
            "Iteration 171, loss = 0.26537119\n",
            "Iteration 172, loss = 0.26577668\n",
            "Iteration 173, loss = 0.26477405\n",
            "Iteration 174, loss = 0.26454381\n",
            "Iteration 175, loss = 0.26484459\n",
            "Iteration 176, loss = 0.26472991\n",
            "Iteration 177, loss = 0.26478438\n",
            "Iteration 178, loss = 0.26421613\n",
            "Iteration 179, loss = 0.26396951\n",
            "Iteration 180, loss = 0.26416930\n",
            "Iteration 181, loss = 0.26294725\n",
            "Iteration 182, loss = 0.26245990\n",
            "Iteration 183, loss = 0.26234627\n",
            "Iteration 184, loss = 0.26217775\n",
            "Iteration 185, loss = 0.26215863\n",
            "Iteration 186, loss = 0.26171194\n",
            "Iteration 187, loss = 0.26107340\n",
            "Iteration 188, loss = 0.26144869\n",
            "Iteration 189, loss = 0.26121470\n",
            "Iteration 190, loss = 0.26056526\n",
            "Iteration 191, loss = 0.26043329\n",
            "Iteration 192, loss = 0.25932496\n",
            "Iteration 193, loss = 0.25947174\n",
            "Iteration 194, loss = 0.25951040\n",
            "Iteration 195, loss = 0.25998504\n",
            "Iteration 196, loss = 0.25911471\n",
            "Iteration 197, loss = 0.25897881\n",
            "Iteration 198, loss = 0.25833514\n",
            "Iteration 199, loss = 0.25800252\n",
            "Iteration 200, loss = 0.25778030\n",
            "Iteration 201, loss = 0.25724592\n",
            "Iteration 202, loss = 0.25714935\n",
            "Iteration 203, loss = 0.25663170\n",
            "Iteration 204, loss = 0.25592006\n",
            "Iteration 205, loss = 0.25635483\n",
            "Iteration 206, loss = 0.25652354\n",
            "Iteration 207, loss = 0.25541324\n",
            "Iteration 208, loss = 0.25557114\n",
            "Iteration 209, loss = 0.25507763\n",
            "Iteration 210, loss = 0.25542408\n",
            "Iteration 211, loss = 0.25487004\n",
            "Iteration 212, loss = 0.25425192\n",
            "Iteration 213, loss = 0.25497497\n",
            "Iteration 214, loss = 0.25359976\n",
            "Iteration 215, loss = 0.25484260\n",
            "Iteration 216, loss = 0.25405336\n",
            "Iteration 217, loss = 0.25328254\n",
            "Iteration 218, loss = 0.25358821\n",
            "Iteration 219, loss = 0.25254096\n",
            "Iteration 220, loss = 0.25294302\n",
            "Iteration 221, loss = 0.25275531\n",
            "Iteration 222, loss = 0.25269406\n",
            "Iteration 223, loss = 0.25250713\n",
            "Iteration 224, loss = 0.25218898\n",
            "Iteration 225, loss = 0.25183197\n",
            "Iteration 226, loss = 0.25144026\n",
            "Iteration 227, loss = 0.25052858\n",
            "Iteration 228, loss = 0.25122653\n",
            "Iteration 229, loss = 0.24997955\n",
            "Iteration 230, loss = 0.25022948\n",
            "Iteration 231, loss = 0.25067303\n",
            "Iteration 232, loss = 0.25051128\n",
            "Iteration 233, loss = 0.25021263\n",
            "Iteration 234, loss = 0.24932636\n",
            "Iteration 235, loss = 0.24894772\n",
            "Iteration 236, loss = 0.24901779\n",
            "Iteration 237, loss = 0.24939111\n",
            "Iteration 238, loss = 0.24897733\n",
            "Iteration 239, loss = 0.24836406\n",
            "Iteration 240, loss = 0.24787779\n",
            "Iteration 241, loss = 0.24843264\n",
            "Iteration 242, loss = 0.24851562\n",
            "Iteration 243, loss = 0.24712490\n",
            "Iteration 244, loss = 0.24782750\n",
            "Iteration 245, loss = 0.24642610\n",
            "Iteration 246, loss = 0.24801168\n",
            "Iteration 247, loss = 0.24717615\n",
            "Iteration 248, loss = 0.24623938\n",
            "Iteration 249, loss = 0.24687428\n",
            "Iteration 250, loss = 0.24650986\n",
            "Iteration 251, loss = 0.24531279\n",
            "Iteration 252, loss = 0.24596973\n"
          ]
        },
        {
          "name": "stdout",
          "output_type": "stream",
          "text": [
            "Iteration 253, loss = 0.24613734\n",
            "Iteration 254, loss = 0.24509635\n",
            "Iteration 255, loss = 0.24485933\n",
            "Iteration 256, loss = 0.24468497\n",
            "Iteration 257, loss = 0.24557208\n",
            "Iteration 258, loss = 0.24490429\n",
            "Iteration 259, loss = 0.24434172\n",
            "Iteration 260, loss = 0.24370819\n",
            "Iteration 261, loss = 0.24441754\n",
            "Iteration 262, loss = 0.24370304\n",
            "Iteration 263, loss = 0.24351187\n",
            "Iteration 264, loss = 0.24311688\n",
            "Iteration 265, loss = 0.24341890\n",
            "Iteration 266, loss = 0.24273811\n",
            "Iteration 267, loss = 0.24282110\n",
            "Iteration 268, loss = 0.24304625\n",
            "Iteration 269, loss = 0.24265139\n",
            "Iteration 270, loss = 0.24282349\n",
            "Iteration 271, loss = 0.24208212\n",
            "Iteration 272, loss = 0.24156388\n",
            "Iteration 273, loss = 0.24148848\n",
            "Iteration 274, loss = 0.24277642\n",
            "Iteration 275, loss = 0.24127500\n",
            "Iteration 276, loss = 0.24151178\n",
            "Iteration 277, loss = 0.24177740\n",
            "Iteration 278, loss = 0.24146717\n",
            "Iteration 279, loss = 0.24039903\n",
            "Iteration 280, loss = 0.24065708\n",
            "Iteration 281, loss = 0.24023824\n",
            "Iteration 282, loss = 0.24151073\n",
            "Iteration 283, loss = 0.24042506\n",
            "Iteration 284, loss = 0.23983521\n",
            "Iteration 285, loss = 0.23922870\n",
            "Iteration 286, loss = 0.24036213\n",
            "Iteration 287, loss = 0.23851654\n",
            "Iteration 288, loss = 0.23933606\n",
            "Iteration 289, loss = 0.23820823\n",
            "Iteration 290, loss = 0.23944966\n",
            "Iteration 291, loss = 0.23923918\n",
            "Iteration 292, loss = 0.23786810\n",
            "Iteration 293, loss = 0.23786579\n",
            "Iteration 294, loss = 0.23740280\n",
            "Iteration 295, loss = 0.23743913\n",
            "Iteration 296, loss = 0.23805082\n",
            "Iteration 297, loss = 0.23705865\n",
            "Iteration 298, loss = 0.23680956\n",
            "Iteration 299, loss = 0.23763947\n",
            "Iteration 300, loss = 0.23708777\n",
            "Iteration 301, loss = 0.23734656\n",
            "Iteration 302, loss = 0.23674327\n",
            "Iteration 303, loss = 0.23663826\n",
            "Iteration 304, loss = 0.23616047\n",
            "Iteration 305, loss = 0.23637369\n",
            "Iteration 306, loss = 0.23521326\n",
            "Iteration 307, loss = 0.23697663\n",
            "Iteration 308, loss = 0.23577133\n",
            "Iteration 309, loss = 0.23526770\n",
            "Iteration 310, loss = 0.23590478\n",
            "Iteration 311, loss = 0.23486631\n",
            "Iteration 312, loss = 0.23514806\n",
            "Iteration 313, loss = 0.23435564\n",
            "Iteration 314, loss = 0.23468302\n",
            "Iteration 315, loss = 0.23440356\n",
            "Iteration 316, loss = 0.23442262\n",
            "Iteration 317, loss = 0.23453582\n",
            "Iteration 318, loss = 0.23374006\n",
            "Iteration 319, loss = 0.23460451\n",
            "Iteration 320, loss = 0.23333229\n",
            "Iteration 321, loss = 0.23368622\n",
            "Iteration 322, loss = 0.23345637\n",
            "Iteration 323, loss = 0.23346402\n",
            "Iteration 324, loss = 0.23368920\n",
            "Iteration 325, loss = 0.23232048\n",
            "Iteration 326, loss = 0.23355015\n",
            "Iteration 327, loss = 0.23232077\n",
            "Iteration 328, loss = 0.23168056\n",
            "Iteration 329, loss = 0.23218935\n",
            "Iteration 330, loss = 0.23193183\n",
            "Iteration 331, loss = 0.23188832\n",
            "Iteration 332, loss = 0.23077964\n",
            "Iteration 333, loss = 0.23180491\n",
            "Iteration 334, loss = 0.23063892\n",
            "Iteration 335, loss = 0.23135321\n",
            "Iteration 336, loss = 0.23046293\n",
            "Iteration 337, loss = 0.23097875\n",
            "Iteration 338, loss = 0.23047032\n",
            "Iteration 339, loss = 0.22996897\n",
            "Iteration 340, loss = 0.22989404\n",
            "Iteration 341, loss = 0.23039150\n",
            "Iteration 342, loss = 0.23050376\n",
            "Iteration 343, loss = 0.22977961\n",
            "Iteration 344, loss = 0.22976112\n",
            "Iteration 345, loss = 0.22936954\n",
            "Iteration 346, loss = 0.22982413\n",
            "Iteration 347, loss = 0.22874362\n",
            "Iteration 348, loss = 0.22886387\n",
            "Iteration 349, loss = 0.22845612\n",
            "Iteration 350, loss = 0.22828694\n",
            "Iteration 351, loss = 0.22801633\n",
            "Iteration 352, loss = 0.22814064\n",
            "Iteration 353, loss = 0.22820080\n",
            "Iteration 354, loss = 0.22825712\n",
            "Iteration 355, loss = 0.22756380\n",
            "Iteration 356, loss = 0.22781162\n",
            "Iteration 357, loss = 0.22716993\n",
            "Iteration 358, loss = 0.22747387\n",
            "Iteration 359, loss = 0.22781635\n",
            "Iteration 360, loss = 0.22622014\n",
            "Iteration 361, loss = 0.22638350\n",
            "Iteration 362, loss = 0.22606895\n",
            "Iteration 363, loss = 0.22552242\n",
            "Iteration 364, loss = 0.22620004\n",
            "Iteration 365, loss = 0.22569149\n",
            "Iteration 366, loss = 0.22532088\n",
            "Iteration 367, loss = 0.22557408\n",
            "Iteration 368, loss = 0.22520949\n",
            "Iteration 369, loss = 0.22582545\n",
            "Iteration 370, loss = 0.22494567\n",
            "Iteration 371, loss = 0.22555237\n",
            "Iteration 372, loss = 0.22569039\n",
            "Iteration 373, loss = 0.22606243\n",
            "Iteration 374, loss = 0.22531758\n",
            "Iteration 375, loss = 0.22498894\n",
            "Iteration 376, loss = 0.22506686\n",
            "Iteration 377, loss = 0.22452882\n",
            "Iteration 378, loss = 0.22503198\n",
            "Iteration 379, loss = 0.22419707\n",
            "Iteration 380, loss = 0.22340966\n",
            "Iteration 381, loss = 0.22406314\n",
            "Iteration 382, loss = 0.22413092\n",
            "Iteration 383, loss = 0.22421112\n",
            "Iteration 384, loss = 0.22422608\n",
            "Iteration 385, loss = 0.22310054\n",
            "Iteration 386, loss = 0.22324886\n",
            "Iteration 387, loss = 0.22302697\n",
            "Iteration 388, loss = 0.22315942\n",
            "Iteration 389, loss = 0.22380883\n",
            "Iteration 390, loss = 0.22275533\n",
            "Iteration 391, loss = 0.22295063\n",
            "Iteration 392, loss = 0.22310506\n",
            "Iteration 393, loss = 0.22307175\n",
            "Iteration 394, loss = 0.22115005\n",
            "Iteration 395, loss = 0.22204079\n",
            "Iteration 396, loss = 0.22251814\n",
            "Iteration 397, loss = 0.22136526\n",
            "Iteration 398, loss = 0.22126483\n",
            "Iteration 399, loss = 0.22077574\n",
            "Iteration 400, loss = 0.22122411\n",
            "Iteration 401, loss = 0.22122093\n",
            "Iteration 402, loss = 0.22075002\n",
            "Iteration 403, loss = 0.22080647\n",
            "Iteration 404, loss = 0.22029486\n",
            "Iteration 405, loss = 0.22031194\n",
            "Iteration 406, loss = 0.22155017\n",
            "Iteration 407, loss = 0.22003414\n",
            "Iteration 408, loss = 0.22014238\n",
            "Iteration 409, loss = 0.21921040\n",
            "Iteration 410, loss = 0.21933444\n",
            "Iteration 411, loss = 0.21907875\n",
            "Iteration 412, loss = 0.21896393\n",
            "Iteration 413, loss = 0.21982514\n",
            "Iteration 414, loss = 0.21899635\n",
            "Iteration 415, loss = 0.21934408\n",
            "Iteration 416, loss = 0.21924004\n",
            "Iteration 417, loss = 0.21844077\n",
            "Iteration 418, loss = 0.21847319\n",
            "Iteration 419, loss = 0.21847166\n",
            "Iteration 420, loss = 0.21857878\n",
            "Iteration 421, loss = 0.21796125\n",
            "Iteration 422, loss = 0.21794799\n",
            "Iteration 423, loss = 0.21892263\n",
            "Iteration 424, loss = 0.21714264\n",
            "Iteration 425, loss = 0.21732155\n",
            "Iteration 426, loss = 0.21778787\n",
            "Iteration 427, loss = 0.21727428\n",
            "Iteration 428, loss = 0.21690204\n",
            "Iteration 429, loss = 0.21691532\n",
            "Iteration 430, loss = 0.21702278\n",
            "Iteration 431, loss = 0.21617664\n",
            "Iteration 432, loss = 0.21811611\n",
            "Iteration 433, loss = 0.21664843\n",
            "Iteration 434, loss = 0.21690467\n",
            "Iteration 435, loss = 0.21662886\n",
            "Iteration 436, loss = 0.21671028\n",
            "Iteration 437, loss = 0.21665673\n",
            "Iteration 438, loss = 0.21625428\n",
            "Iteration 439, loss = 0.21677936\n",
            "Iteration 440, loss = 0.21682090\n",
            "Iteration 441, loss = 0.21600649\n",
            "Iteration 442, loss = 0.21548267\n",
            "Iteration 443, loss = 0.21511728\n",
            "Iteration 444, loss = 0.21587700\n",
            "Iteration 445, loss = 0.21570679\n",
            "Iteration 446, loss = 0.21547871\n",
            "Iteration 447, loss = 0.21548536\n",
            "Iteration 448, loss = 0.21515331\n",
            "Iteration 449, loss = 0.21448837\n",
            "Iteration 450, loss = 0.21477153\n",
            "Iteration 451, loss = 0.21474180\n",
            "Iteration 452, loss = 0.21422551\n",
            "Iteration 453, loss = 0.21450276\n",
            "Iteration 454, loss = 0.21378491\n",
            "Iteration 455, loss = 0.21375019\n",
            "Iteration 456, loss = 0.21387708\n",
            "Iteration 457, loss = 0.21357022\n",
            "Iteration 458, loss = 0.21367370\n",
            "Iteration 459, loss = 0.21377531\n",
            "Iteration 460, loss = 0.21456264\n",
            "Iteration 461, loss = 0.21320145\n",
            "Iteration 462, loss = 0.21388414\n",
            "Iteration 463, loss = 0.21393386\n",
            "Iteration 464, loss = 0.21269242\n",
            "Iteration 465, loss = 0.21269606\n",
            "Iteration 466, loss = 0.21236851\n",
            "Iteration 467, loss = 0.21263751\n",
            "Iteration 468, loss = 0.21179894\n",
            "Iteration 469, loss = 0.21275748\n",
            "Iteration 470, loss = 0.21195500\n",
            "Iteration 471, loss = 0.21272303\n",
            "Iteration 472, loss = 0.21146610\n",
            "Iteration 473, loss = 0.21142072\n",
            "Iteration 474, loss = 0.21201396\n",
            "Iteration 475, loss = 0.21159264\n",
            "Iteration 476, loss = 0.21174718\n",
            "Iteration 477, loss = 0.21156012\n",
            "Iteration 478, loss = 0.21122417\n",
            "Iteration 479, loss = 0.21181863\n",
            "Iteration 480, loss = 0.21083827\n",
            "Iteration 481, loss = 0.21142392\n",
            "Iteration 482, loss = 0.21127490\n",
            "Iteration 483, loss = 0.21082281\n",
            "Iteration 484, loss = 0.21035904\n",
            "Iteration 485, loss = 0.21026187\n",
            "Iteration 486, loss = 0.21100949\n",
            "Iteration 487, loss = 0.21052643\n",
            "Iteration 488, loss = 0.20974685\n",
            "Iteration 489, loss = 0.21011945\n",
            "Iteration 490, loss = 0.21029844\n",
            "Iteration 491, loss = 0.21070258\n",
            "Iteration 492, loss = 0.20956687\n",
            "Iteration 493, loss = 0.21030606\n",
            "Iteration 494, loss = 0.20964387\n",
            "Iteration 495, loss = 0.20898693\n",
            "Iteration 496, loss = 0.20928140\n",
            "Iteration 497, loss = 0.20929872\n",
            "Iteration 498, loss = 0.20868357\n",
            "Iteration 499, loss = 0.20778214\n",
            "Iteration 500, loss = 0.20851382\n",
            "Iteration 501, loss = 0.20870598\n"
          ]
        },
        {
          "name": "stdout",
          "output_type": "stream",
          "text": [
            "Iteration 502, loss = 0.20875354\n",
            "Iteration 503, loss = 0.20899259\n",
            "Iteration 504, loss = 0.20798780\n",
            "Iteration 505, loss = 0.20757146\n",
            "Iteration 506, loss = 0.20833906\n",
            "Iteration 507, loss = 0.20859684\n",
            "Iteration 508, loss = 0.20829263\n",
            "Iteration 509, loss = 0.20770695\n",
            "Iteration 510, loss = 0.20891449\n",
            "Iteration 511, loss = 0.20842693\n",
            "Iteration 512, loss = 0.20773986\n",
            "Iteration 513, loss = 0.20714298\n",
            "Iteration 514, loss = 0.20719870\n",
            "Iteration 515, loss = 0.20734812\n",
            "Iteration 516, loss = 0.20772714\n",
            "Iteration 517, loss = 0.20641735\n",
            "Iteration 518, loss = 0.20734416\n",
            "Iteration 519, loss = 0.20623662\n",
            "Iteration 520, loss = 0.20594192\n",
            "Iteration 521, loss = 0.20599584\n",
            "Iteration 522, loss = 0.20640014\n",
            "Iteration 523, loss = 0.20757726\n",
            "Iteration 524, loss = 0.20554766\n",
            "Iteration 525, loss = 0.20652376\n",
            "Iteration 526, loss = 0.20612979\n",
            "Iteration 527, loss = 0.20608285\n",
            "Iteration 528, loss = 0.20574032\n",
            "Iteration 529, loss = 0.20530309\n",
            "Iteration 530, loss = 0.20531855\n",
            "Iteration 531, loss = 0.20528716\n",
            "Iteration 532, loss = 0.20537976\n",
            "Iteration 533, loss = 0.20591255\n",
            "Iteration 534, loss = 0.20520645\n",
            "Iteration 535, loss = 0.20519710\n",
            "Iteration 536, loss = 0.20548435\n",
            "Iteration 537, loss = 0.20513252\n",
            "Iteration 538, loss = 0.20483768\n",
            "Iteration 539, loss = 0.20411520\n",
            "Iteration 540, loss = 0.20445807\n",
            "Iteration 541, loss = 0.20405653\n",
            "Iteration 542, loss = 0.20466630\n",
            "Iteration 543, loss = 0.20408648\n",
            "Iteration 544, loss = 0.20309569\n",
            "Iteration 545, loss = 0.20432381\n",
            "Iteration 546, loss = 0.20378899\n",
            "Iteration 547, loss = 0.20404134\n",
            "Iteration 548, loss = 0.20405164\n",
            "Iteration 549, loss = 0.20361013\n",
            "Iteration 550, loss = 0.20366269\n",
            "Iteration 551, loss = 0.20303720\n",
            "Iteration 552, loss = 0.20391898\n",
            "Iteration 553, loss = 0.20274578\n",
            "Iteration 554, loss = 0.20313587\n",
            "Iteration 555, loss = 0.20295520\n",
            "Iteration 556, loss = 0.20243144\n",
            "Iteration 557, loss = 0.20291539\n",
            "Iteration 558, loss = 0.20271826\n",
            "Iteration 559, loss = 0.20298708\n",
            "Iteration 560, loss = 0.20255191\n",
            "Iteration 561, loss = 0.20214110\n",
            "Iteration 562, loss = 0.20325787\n",
            "Iteration 563, loss = 0.20235982\n",
            "Iteration 564, loss = 0.20249601\n",
            "Iteration 565, loss = 0.20174457\n",
            "Iteration 566, loss = 0.20185372\n",
            "Iteration 567, loss = 0.20213528\n",
            "Iteration 568, loss = 0.20218371\n",
            "Iteration 569, loss = 0.20112226\n",
            "Iteration 570, loss = 0.20206287\n",
            "Iteration 571, loss = 0.20120243\n",
            "Iteration 572, loss = 0.20162402\n",
            "Iteration 573, loss = 0.20225573\n",
            "Iteration 574, loss = 0.20102542\n",
            "Iteration 575, loss = 0.20059109\n",
            "Iteration 576, loss = 0.20075446\n",
            "Iteration 577, loss = 0.20130276\n",
            "Iteration 578, loss = 0.20122518\n",
            "Iteration 579, loss = 0.20086115\n",
            "Iteration 580, loss = 0.20027571\n",
            "Iteration 581, loss = 0.20144369\n",
            "Iteration 582, loss = 0.20104570\n",
            "Iteration 583, loss = 0.20094474\n",
            "Iteration 584, loss = 0.20018983\n",
            "Iteration 585, loss = 0.19981316\n",
            "Iteration 586, loss = 0.20110123\n",
            "Iteration 587, loss = 0.20020937\n",
            "Iteration 588, loss = 0.19967169\n",
            "Iteration 589, loss = 0.19976012\n",
            "Iteration 590, loss = 0.19919727\n",
            "Iteration 591, loss = 0.19935772\n",
            "Iteration 592, loss = 0.20015120\n",
            "Iteration 593, loss = 0.19994606\n",
            "Iteration 594, loss = 0.19870347\n",
            "Iteration 595, loss = 0.19904219\n",
            "Iteration 596, loss = 0.19853590\n",
            "Iteration 597, loss = 0.19903006\n",
            "Iteration 598, loss = 0.19899161\n",
            "Iteration 599, loss = 0.19876425\n",
            "Iteration 600, loss = 0.19874357\n",
            "\n",
            "RESULTS FOR NN\n",
            "\n",
            "NN training error: 0.077982\n",
            "NN test error: 0.198536\n"
          ]
        },
        {
          "name": "stderr",
          "output_type": "stream",
          "text": [
            "C:\\Users\\f\\Anaconda3\\lib\\site-packages\\sklearn\\neural_network\\_multilayer_perceptron.py:571: ConvergenceWarning: Stochastic Optimizer: Maximum iterations (600) reached and the optimization hasn't converged yet.\n",
            "  % self.max_iter, ConvergenceWarning)\n"
          ]
        }
      ]
    },
    {
      "cell_type": "markdown",
      "metadata": {
        "id": "CATN7dH_FlYL"
      },
      "source": [
        "## QUESTION 4\n",
        "Compare the train and test error you got with a large number of samples with the best one you obtained with only 600 data points. Comment about the results you obtained."
      ]
    },
    {
      "cell_type": "markdown",
      "metadata": {
        "id": "sJ2AjrHXFlYL"
      },
      "source": [
        "#### [ANSWER TO QUESTION 4]\n",
        "It will take too much time to be converged with a large number of samples. But we can get better results if we have powerfull computer for running."
      ]
    },
    {
      "cell_type": "markdown",
      "metadata": {
        "id": "rCnOxnziFlYL"
      },
      "source": [
        "### TO DO 7\n",
        "\n",
        "Plot an example that was missclassified by NN with m=600 training data points and it is now instead correctly classified by NN with m=4000 training data points."
      ]
    },
    {
      "cell_type": "code",
      "metadata": {
        "id": "84ECQapGFlYL",
        "outputId": "a021a55e-4150-4664-e82a-687353b5ad5e"
      },
      "source": [
        "NN_prediction = mlp5.predict(X_test)\n",
        "large_NN_prediction = mlp6.predict(X_test)\n",
        "\n",
        "#ADD YOUR CODE\n",
        "index = 0\n",
        "misclassified_images = []\n",
        "for label, predict_NN,predict_LNN in zip(y_test, NN_prediction,large_NN_prediction):\n",
        "    if (label != predict_NN)and (label==predict_LNN): \n",
        "        misclassified_images.append(index)\n",
        "    index +=1\n",
        "print(misclassified_images)\n",
        "plt.figure(figsize=(20,20))\n",
        "plt.suptitle('Misclassifications by NN and correct classified by Large NN');\n",
        "\n",
        "for plot_index, bad_index in enumerate(misclassified_images[0:10]):\n",
        "    p = plt.subplot(4,5, plot_index+1) # 4x5 plot\n",
        "    p.imshow(\n",
        "        X_test[bad_index].reshape(28,28),\n",
        "        cmap          = plt.cm.gray_r,\n",
        "        interpolation = \"nearest\"\n",
        "    )\n",
        "    p.set_xticks(()); p.set_yticks(()) # remove ticks\n",
        "    \n",
        "    p.set_title(f'Pred_NN: {NN_prediction[bad_index]},pred_LNN:{large_NN_prediction[bad_index]} Actual: {y_test[bad_index]}')"
      ],
      "execution_count": null,
      "outputs": [
        {
          "name": "stdout",
          "output_type": "stream",
          "text": [
            "[86, 369, 513, 600, 1282, 1315, 1355, 1420, 1810, 2082, 2226, 2357, 2635, 3520]\n"
          ]
        },
        {
          "data": {
            "image/png": "[encoded data removed]",
            "text/plain": [
              "<Figure size 1440x1440 with 10 Axes>"
            ]
          },
          "metadata": {},
          "output_type": "display_data"
        }
      ]
    },
    {
      "cell_type": "markdown",
      "metadata": {
        "id": "KZ3OT_egFlYM"
      },
      "source": [
        "### TO DO 8\n",
        "\n",
        "Let's plot the weigths of the multi-layer perceptron classifier, for the best NN we get with 600 data points and with 4000 data points. The code is already provided, just fix variable names (e.g., replace mlp , mlp_large with your estimators) in order to have it working with your implementation\n",
        "\n"
      ]
    },
    {
      "cell_type": "code",
      "metadata": {
        "id": "E0tOG7erFlYM",
        "outputId": "5facfeec-dcc6-4ca4-fd7b-7e727f34c9fe"
      },
      "source": [
        "print(\"Weights with 600 data points:\")\n",
        "\n",
        "fig, axes = plt.subplots(4, 4)\n",
        "vmin, vmax = mlp5.coefs_[0].min(), mlp5.coefs_[0].max()\n",
        "for coef, ax in zip(mlp5.coefs_[0].T, axes.ravel()):\n",
        "    ax.matshow(coef.reshape(28, 28), cmap=plt.cm.gray, vmin=.5 * vmin,\n",
        "               vmax=.5 * vmax)\n",
        "    ax.set_xticks(())\n",
        "    ax.set_yticks(())\n",
        "\n",
        "plt.show()\n",
        "\n",
        "print(\"Weights with 4000 data points:\")\n",
        "\n",
        "fig, axes = plt.subplots(4, 4)\n",
        "vmin, vmax = mlp6.coefs_[0].min(), mlp6.coefs_[0].max()\n",
        "for coef, ax in zip(mlp6.coefs_[0].T, axes.ravel()):\n",
        "    ax.matshow(coef.reshape(28, 28), cmap=plt.cm.gray, vmin=.5 * vmin,\n",
        "               vmax=.5 * vmax)\n",
        "    ax.set_xticks(())\n",
        "    ax.set_yticks(())\n",
        "plt.show()"
      ],
      "execution_count": null,
      "outputs": [
        {
          "name": "stdout",
          "output_type": "stream",
          "text": [
            "Weights with 600 data points:\n"
          ]
        },
        {
          "data": {
            "image/png": "[encoded data removed]",
            "text/plain": [
              "<Figure size 432x288 with 16 Axes>"
            ]
          },
          "metadata": {},
          "output_type": "display_data"
        },
        {
          "name": "stdout",
          "output_type": "stream",
          "text": [
            "Weights with 4000 data points:\n"
          ]
        },
        {
          "data": {
            "image/png": "[encoded data removed]",
            "text/plain": [
              "<Figure size 432x288 with 16 Axes>"
            ]
          },
          "metadata": {},
          "output_type": "display_data"
        }
      ]
    },
    {
      "cell_type": "markdown",
      "metadata": {
        "id": "QvAqV3UFFlYM"
      },
      "source": [
        "## QUESTION 5\n",
        "\n",
        "Describe what do you observe by looking at the weights."
      ]
    },
    {
      "cell_type": "markdown",
      "metadata": {
        "id": "OsftYz4EFlYM"
      },
      "source": [
        "##### [ANSWER TO QUESTION 5]\n",
        "With less data points we can see the weights better."
      ]
    },
    {
      "cell_type": "markdown",
      "metadata": {
        "id": "gI6NdDxeFlYM"
      },
      "source": [
        "### TO DO 9\n",
        "\n",
        "Take the best SVM model and its parameters, you found in the last notebook. Fit it on a few data points and compute its training and test scores. Then fit also a logistic regression model with C=1. "
      ]
    },
    {
      "cell_type": "code",
      "metadata": {
        "id": "hjo-4jjNFlYN",
        "outputId": "b58706ea-6e5a-4d0c-9274-786daf8aba6d"
      },
      "source": [
        "m_training = 5000\n",
        "\n",
        "X_train9, X_test9 = X[:m_training], X[m_training:2*m_training]\n",
        "y_train9, y_test9 = y[:m_training], y[m_training:2*m_training]\n",
        "\n",
        "# use best parameters found in the SVM notebook, create SVM and perform fitting\n",
        "best_model = SVC(C=10, gamma = 1e-02, kernel='rbf')\n",
        "best_model.fit(X_train9,y_train9)\n",
        "#ADD YOUR CODE\n",
        "\n",
        "print ('RESULTS FOR SVM')\n",
        "\n",
        "SVM_training_error =  1- best_model.score(X_train9,y_train9)\n",
        "\n",
        "print(\"Training score SVM:\")\n",
        "print(SVM_training_error)\n",
        "\n",
        "SVM_test_error = 1- best_model.score(X_test9,y_test9)\n",
        "print(\"Test score SVM:\")\n",
        "print(SVM_test_error)"
      ],
      "execution_count": null,
      "outputs": [
        {
          "name": "stdout",
          "output_type": "stream",
          "text": [
            "RESULTS FOR SVM\n",
            "Training score SVM:\n",
            "0.011600000000000055\n",
            "Test score SVM:\n",
            "0.13580000000000003\n"
          ]
        }
      ]
    },
    {
      "cell_type": "code",
      "metadata": {
        "id": "PJR_NwAQFlYN",
        "outputId": "e7e171ef-3160-42a6-b255-e0cf65e3d1ab"
      },
      "source": [
        "from sklearn import linear_model\n",
        "\n",
        "regL2 = linear_model.LogisticRegression(C=1)\n",
        "regL2.fit(X_train9, y_train9)\n",
        "\n",
        "# you can re-use your code from Lab 2\n",
        "\n",
        "#ADD YOUR CODE\n",
        "\n",
        "print ('\\nRESULTS FOR LOGISTIC REGRESSION WITH REGULARIZATION')\n",
        "\n",
        "training_error =  1- regL2.score(X_train9,y_train9)\n",
        "test_error =  1- regL2.score(X_test9,y_test9)\n",
        "\n",
        "print (\"Training error (reg): %f\" % training_error)\n",
        "print (\"Test error (reg): %f\" % test_error)"
      ],
      "execution_count": null,
      "outputs": [
        {
          "name": "stdout",
          "output_type": "stream",
          "text": [
            "\n",
            "RESULTS FOR LOGISTIC REGRESSION WITH REGULARIZATION\n",
            "Training error (reg): 0.071000\n",
            "Test error (reg): 0.169400\n"
          ]
        },
        {
          "name": "stderr",
          "output_type": "stream",
          "text": [
            "C:\\Users\\f\\Anaconda3\\lib\\site-packages\\sklearn\\linear_model\\_logistic.py:940: ConvergenceWarning: lbfgs failed to converge (status=1):\n",
            "STOP: TOTAL NO. of ITERATIONS REACHED LIMIT.\n",
            "\n",
            "Increase the number of iterations (max_iter) or scale the data as shown in:\n",
            "    https://scikit-learn.org/stable/modules/preprocessing.html\n",
            "Please also refer to the documentation for alternative solver options:\n",
            "    https://scikit-learn.org/stable/modules/linear_model.html#logistic-regression\n",
            "  extra_warning_msg=_LOGISTIC_SOLVER_CONVERGENCE_MSG)\n"
          ]
        }
      ]
    },
    {
      "cell_type": "markdown",
      "metadata": {
        "collapsed": true,
        "id": "CADs8he4FlYN"
      },
      "source": [
        "## QUESTION 6\n",
        "Compare the results of Logistic Regression, SVM and NN. Which one achieve the best results? "
      ]
    },
    {
      "cell_type": "markdown",
      "metadata": {
        "id": "ZquZ7r92FlYO"
      },
      "source": [
        "###### [ANSWER TO QUESTION 6]\n",
        "RESULTS FOR LOGISTIC REGRESSION WITH REGULARIZATION\n",
        "Training error (reg): 0.071000\n",
        "Test error (reg): 0.169400\n",
        "\n",
        "RESULTS FOR SVM\n",
        "Training score SVM: 0.011600000000000055\n",
        "Test score SVM: 0.13580000000000003\n",
        "\n",
        "RESULTS FOR NN FOR 4000 DATA POINTS\n",
        "NN training error: 0.077982\n",
        "NN test error: 0.198536\n",
        "\n",
        "So we can see that SVM has the best results."
      ]
    }
  ]
}